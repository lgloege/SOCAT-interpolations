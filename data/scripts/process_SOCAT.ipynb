{
 "cells": [
  {
   "cell_type": "markdown",
   "metadata": {},
   "source": [
    "# Process : SOCAT\n",
    "_process SOCAT product_\n",
    "\n",
    "- **Original**: `/local/data/artemis/observations/SOCAT`\n",
    "- **Processed**: `/local/data/artemis/observations/SOCAT`\n",
    "- **Variable**: spco2\n",
    "- **Temporal**: Monthly, 198112 - 201908\n",
    "- **Spatial**: 1x1 degree\n",
    "- **todo**: \n",
    "\n",
    "Laste update : 20 September 2019 L. Gloege"
   ]
  },
  {
   "cell_type": "code",
   "execution_count": 1,
   "metadata": {},
   "outputs": [],
   "source": [
    "import numpy as np\n",
    "import xarray as xr\n",
    "import pandas as pd\n",
    "import matplotlib.pyplot as plt\n",
    "import os"
   ]
  },
  {
   "cell_type": "code",
   "execution_count": 2,
   "metadata": {},
   "outputs": [],
   "source": [
    "# Observations directory\n",
    "dir_obs = '/local/data/artemis/observations'"
   ]
  },
  {
   "cell_type": "code",
   "execution_count": 3,
   "metadata": {},
   "outputs": [],
   "source": [
    "# Load raw data\n",
    "ds = xr.open_dataset(f'{dir_obs}/SOCAT/originals/SOCATv2019_tracks_gridded_monthly.nc')"
   ]
  },
  {
   "cell_type": "code",
   "execution_count": 4,
   "metadata": {},
   "outputs": [],
   "source": [
    "# Roll so longitude is 0-360\n",
    "ds_rolled = ds.roll(xlon=180, roll_coords='lon')"
   ]
  },
  {
   "cell_type": "code",
   "execution_count": 5,
   "metadata": {},
   "outputs": [
    {
     "name": "stdout",
     "output_type": "stream",
     "text": [
      "start: 1970-01-16T12:00:00.000000000\n",
      "end: 2018-12-16T12:00:00.000000000\n"
     ]
    }
   ],
   "source": [
    "print('start:', str(ds_rolled['tmnth'][0].values))\n",
    "print('end:', str(ds_rolled['tmnth'][-1].values))"
   ]
  },
  {
   "cell_type": "code",
   "execution_count": 6,
   "metadata": {},
   "outputs": [
    {
     "data": {
      "text/plain": [
       "(588,)"
      ]
     },
     "execution_count": 6,
     "metadata": {},
     "output_type": "execute_result"
    }
   ],
   "source": [
    "# Create date vector\n",
    "dates = pd.date_range(start='1970-01-01T00:00:00.000000000', \n",
    "                      end='2018-12-01T00:00:00.000000000',freq='MS')+ np.timedelta64(14, 'D')\n",
    "da_dates = xr.DataArray(dates, dims='time')\n",
    "np.shape(da_dates)"
   ]
  },
  {
   "cell_type": "markdown",
   "metadata": {},
   "source": [
    "# Put data into dataset"
   ]
  },
  {
   "cell_type": "code",
   "execution_count": 11,
   "metadata": {},
   "outputs": [],
   "source": [
    "ds_out = xr.Dataset(\n",
    "    {\n",
    "    'spco2':(['time','lat', 'lon'], ds_rolled['fco2_ave_unwtd'], \n",
    "             {'long_name':'Arithmetic mean of all fco2 recomputed values found in the grid cell.',\n",
    "               'units':'uatm'}),\n",
    "    },\n",
    "\n",
    "    coords={\n",
    "    'lat': (['lat'], ds_rolled['ylat'], {'units':'degrees_north'}),\n",
    "    'lon': (['lon'], np.arange(0.5, 360, 1), {'units':'degrees_east'}),\n",
    "    'time': (['time'], da_dates)\n",
    "    },\n",
    "    attrs={'contact':'Luke Gloege (gloege@ldeo.columbia.edu)',\n",
    "           'creation_date':'21 September 2019',\n",
    "           'notes':'original data, trimmed 1982-2017',\n",
    "           'original_data':'https://www.socat.info/'})"
   ]
  },
  {
   "cell_type": "code",
   "execution_count": 14,
   "metadata": {},
   "outputs": [
    {
     "name": "stdout",
     "output_type": "stream",
     "text": [
      "xarray.Dataset {\n",
      "dimensions:\n",
      "\tlat = 180 ;\n",
      "\tlon = 360 ;\n",
      "\ttime = 588 ;\n",
      "\n",
      "variables:\n",
      "\tfloat32 spco2(time, lat, lon) ;\n",
      "\t\tspco2:long_name = Arithmetic mean of all fco2 recomputed values found in the grid cell. ;\n",
      "\t\tspco2:units = uatm ;\n",
      "\tfloat64 lat(lat) ;\n",
      "\t\tlat:units = degrees_north ;\n",
      "\tfloat64 lon(lon) ;\n",
      "\t\tlon:units = degrees_east ;\n",
      "\tdatetime64[ns] time(time) ;\n",
      "\n",
      "// global attributes:\n",
      "\t:contact = Luke Gloege (gloege@ldeo.columbia.edu) ;\n",
      "\t:creation_date = 21 September 2019 ;\n",
      "\t:notes = original data, trimmed 1982-2017 ;\n",
      "\t:original_data = https://www.socat.info/ ;\n",
      "}"
     ]
    }
   ],
   "source": [
    "ds_out.info()"
   ]
  },
  {
   "cell_type": "markdown",
   "metadata": {},
   "source": [
    "## Trim 1982-2018"
   ]
  },
  {
   "cell_type": "code",
   "execution_count": 15,
   "metadata": {},
   "outputs": [
    {
     "data": {
      "text/plain": [
       "<xarray.Dataset>\n",
       "Dimensions:  (lat: 180, lon: 360, time: 444)\n",
       "Coordinates:\n",
       "  * lat      (lat) float64 -89.5 -88.5 -87.5 -86.5 -85.5 ... 86.5 87.5 88.5 89.5\n",
       "  * lon      (lon) float64 0.5 1.5 2.5 3.5 4.5 ... 355.5 356.5 357.5 358.5 359.5\n",
       "  * time     (time) datetime64[ns] 1982-01-15 1982-02-15 ... 2018-12-15\n",
       "Data variables:\n",
       "    spco2    (time, lat, lon) float32 nan nan nan nan nan ... nan nan nan nan\n",
       "Attributes:\n",
       "    contact:        Luke Gloege (gloege@ldeo.columbia.edu)\n",
       "    creation_date:  21 September 2019\n",
       "    notes:          original data, trimmed 1982-2017\n",
       "    original_data:  https://www.socat.info/"
      ]
     },
     "execution_count": 15,
     "metadata": {},
     "output_type": "execute_result"
    }
   ],
   "source": [
    "ds_out.sel(time=slice('1982-01-01','2018-12-31'))"
   ]
  },
  {
   "cell_type": "code",
   "execution_count": 16,
   "metadata": {},
   "outputs": [
    {
     "name": "stdout",
     "output_type": "stream",
     "text": [
      "xarray.Dataset {\n",
      "dimensions:\n",
      "\tlat = 180 ;\n",
      "\tlon = 360 ;\n",
      "\ttime = 588 ;\n",
      "\n",
      "variables:\n",
      "\tfloat32 spco2(time, lat, lon) ;\n",
      "\t\tspco2:long_name = Arithmetic mean of all fco2 recomputed values found in the grid cell. ;\n",
      "\t\tspco2:units = uatm ;\n",
      "\tfloat64 lat(lat) ;\n",
      "\t\tlat:units = degrees_north ;\n",
      "\tfloat64 lon(lon) ;\n",
      "\t\tlon:units = degrees_east ;\n",
      "\tdatetime64[ns] time(time) ;\n",
      "\n",
      "// global attributes:\n",
      "\t:contact = Luke Gloege (gloege@ldeo.columbia.edu) ;\n",
      "\t:creation_date = 21 September 2019 ;\n",
      "\t:notes = original data, trimmed 1982-2017 ;\n",
      "\t:original_data = https://www.socat.info/ ;\n",
      "}"
     ]
    }
   ],
   "source": [
    "ds_out.info()"
   ]
  },
  {
   "cell_type": "markdown",
   "metadata": {},
   "source": [
    "# Save as netcdf file"
   ]
  },
  {
   "cell_type": "code",
   "execution_count": 17,
   "metadata": {},
   "outputs": [],
   "source": [
    "ds_out.to_netcdf(f'{dir_obs}/SOCAT/processed/spco2_1x1_mon_SOCATv2019_197001-201812.nc')"
   ]
  },
  {
   "cell_type": "code",
   "execution_count": null,
   "metadata": {},
   "outputs": [],
   "source": []
  }
 ],
 "metadata": {
  "kernelspec": {
   "display_name": "tensorflow",
   "language": "python",
   "name": "tensorflow"
  },
  "language_info": {
   "codemirror_mode": {
    "name": "ipython",
    "version": 3
   },
   "file_extension": ".py",
   "mimetype": "text/x-python",
   "name": "python",
   "nbconvert_exporter": "python",
   "pygments_lexer": "ipython3",
   "version": "3.6.7"
  }
 },
 "nbformat": 4,
 "nbformat_minor": 2
}
