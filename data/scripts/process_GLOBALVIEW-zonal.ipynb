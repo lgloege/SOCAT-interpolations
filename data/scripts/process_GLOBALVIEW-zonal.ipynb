{
 "cells": [
  {
   "cell_type": "markdown",
   "metadata": {},
   "source": [
    "# Process : GlobalView - zonal\n",
    "_process GlobalView xCO2 data_\n",
    "\n",
    "- **Original**: `/local/data/artemis/observations/globalview/originals`\n",
    "- **Processed**: `/local/data/artemis/observations/globalview/processed/`\n",
    "- **Variable**: xCO2\n",
    "- **Temporal**: Monthly, 198201 - 201712\n",
    "- **Spatial**: 1x1 degree, interpolated from native grid\n",
    "\n",
    "This script processes the GLOBALVIEW xCO2 data. \n",
    "This is zonally averaged data. \n",
    "\n",
    "Last update : 20 September 2019 L. Gloege"
   ]
  },
  {
   "cell_type": "code",
   "execution_count": 1,
   "metadata": {},
   "outputs": [],
   "source": [
    "import xarray as xr\n",
    "import numpy as np\n",
    "import pandas as pd\n",
    "import matplotlib.pyplot as plt\n",
    "\n",
    "# Future versions of pandas will require you to explicitly register matplotlib converters\n",
    "from pandas.plotting import register_matplotlib_converters\n",
    "register_matplotlib_converters()"
   ]
  },
  {
   "cell_type": "code",
   "execution_count": 2,
   "metadata": {},
   "outputs": [],
   "source": [
    "# Observations directory\n",
    "dir_obs = '/local/data/artemis/observations'"
   ]
  },
  {
   "cell_type": "code",
   "execution_count": 3,
   "metadata": {},
   "outputs": [],
   "source": [
    "# Surface file\n",
    "fl = f'{dir_obs}/globalview/originals/co2_GHGreference.645082325_zonal.txt'"
   ]
  },
  {
   "cell_type": "code",
   "execution_count": 4,
   "metadata": {},
   "outputs": [],
   "source": [
    "df = pd.read_csv(fl, sep='\\s+', skiprows=73, header=None, index_col=3)"
   ]
  },
  {
   "cell_type": "code",
   "execution_count": 5,
   "metadata": {},
   "outputs": [
    {
     "data": {
      "text/html": [
       "<div>\n",
       "<style scoped>\n",
       "    .dataframe tbody tr th:only-of-type {\n",
       "        vertical-align: middle;\n",
       "    }\n",
       "\n",
       "    .dataframe tbody tr th {\n",
       "        vertical-align: top;\n",
       "    }\n",
       "\n",
       "    .dataframe thead th {\n",
       "        text-align: right;\n",
       "    }\n",
       "</style>\n",
       "<table border=\"1\" class=\"dataframe\">\n",
       "  <thead>\n",
       "    <tr style=\"text-align: right;\">\n",
       "      <th></th>\n",
       "      <th>0</th>\n",
       "      <th>1</th>\n",
       "      <th>2</th>\n",
       "      <th>4</th>\n",
       "      <th>5</th>\n",
       "    </tr>\n",
       "    <tr>\n",
       "      <th>3</th>\n",
       "      <th></th>\n",
       "      <th></th>\n",
       "      <th></th>\n",
       "      <th></th>\n",
       "      <th></th>\n",
       "    </tr>\n",
       "  </thead>\n",
       "  <tbody>\n",
       "    <tr>\n",
       "      <th>1979.000000</th>\n",
       "      <td>1979</td>\n",
       "      <td>1</td>\n",
       "      <td>1</td>\n",
       "      <td>336.0797</td>\n",
       "      <td>0.1736</td>\n",
       "    </tr>\n",
       "    <tr>\n",
       "      <th>1979.020833</th>\n",
       "      <td>1979</td>\n",
       "      <td>1</td>\n",
       "      <td>8</td>\n",
       "      <td>336.3130</td>\n",
       "      <td>0.1786</td>\n",
       "    </tr>\n",
       "    <tr>\n",
       "      <th>1979.041667</th>\n",
       "      <td>1979</td>\n",
       "      <td>1</td>\n",
       "      <td>16</td>\n",
       "      <td>336.5460</td>\n",
       "      <td>0.1777</td>\n",
       "    </tr>\n",
       "    <tr>\n",
       "      <th>1979.062500</th>\n",
       "      <td>1979</td>\n",
       "      <td>1</td>\n",
       "      <td>23</td>\n",
       "      <td>336.7642</td>\n",
       "      <td>0.1697</td>\n",
       "    </tr>\n",
       "    <tr>\n",
       "      <th>1979.083333</th>\n",
       "      <td>1979</td>\n",
       "      <td>1</td>\n",
       "      <td>31</td>\n",
       "      <td>336.9569</td>\n",
       "      <td>0.1578</td>\n",
       "    </tr>\n",
       "  </tbody>\n",
       "</table>\n",
       "</div>"
      ],
      "text/plain": [
       "                0  1   2         4       5\n",
       "3                                         \n",
       "1979.000000  1979  1   1  336.0797  0.1736\n",
       "1979.020833  1979  1   8  336.3130  0.1786\n",
       "1979.041667  1979  1  16  336.5460  0.1777\n",
       "1979.062500  1979  1  23  336.7642  0.1697\n",
       "1979.083333  1979  1  31  336.9569  0.1578"
      ]
     },
     "execution_count": 5,
     "metadata": {},
     "output_type": "execute_result"
    }
   ],
   "source": [
    "df.head()"
   ]
  },
  {
   "cell_type": "code",
   "execution_count": 17,
   "metadata": {},
   "outputs": [],
   "source": [
    "# Time vector\n",
    "df_time = pd.DataFrame({'year': df[0].values,\n",
    "                        'month': df[1].values,\n",
    "                        'day': df[2].values})\n",
    "time = pd.to_datetime(df_time)"
   ]
  },
  {
   "cell_type": "code",
   "execution_count": 25,
   "metadata": {},
   "outputs": [],
   "source": [
    "# xCO2 \n",
    "xco2 = df[4]\n",
    "xco2_uncert = df[5]"
   ]
  },
  {
   "cell_type": "code",
   "execution_count": 20,
   "metadata": {},
   "outputs": [
    {
     "data": {
      "text/plain": [
       "[<matplotlib.lines.Line2D at 0x7febc4a3ffd0>]"
      ]
     },
     "execution_count": 20,
     "metadata": {},
     "output_type": "execute_result"
    },
    {
     "data": {
      "image/png": "[encoded data removed]",
      "text/plain": [
       "<Figure size 432x288 with 1 Axes>"
      ]
     },
     "metadata": {
      "needs_background": "light"
     },
     "output_type": "display_data"
    }
   ],
   "source": [
    "plt.plot(time, xco2)"
   ]
  },
  {
   "cell_type": "markdown",
   "metadata": {},
   "source": [
    "## Create NetCDF File of raw data\n",
    "the NOAA MLB product uses ~weekly data. there are 48 equal time steps each year (~7.6 days)"
   ]
  },
  {
   "cell_type": "code",
   "execution_count": 55,
   "metadata": {},
   "outputs": [],
   "source": [
    "ds_out = xr.Dataset(\n",
    "    {\n",
    "    'xco2':(['time'], xco2, \n",
    "            {'long_name':'mixing ratio of atmospheric CO2',\n",
    "            'units':'ppmv'}),\n",
    "    'xco2_uncertainty':(['time'], xco2_uncert, \n",
    "            {'long_name':'mixing ratio of atmospheric CO2 uncertainty',\n",
    "            'units':'ppmv'}),\n",
    "     'year' : (['time'], df[0].values,\n",
    "              {'long_name':'years'}),\n",
    "     'month' : (['time'], df[1].values,\n",
    "              {'long_name':'month'}),\n",
    "     'day' : (['time'], df[2].values,\n",
    "              {'long_name':'days'})\n",
    "    },\n",
    "\n",
    "    coords={\n",
    "    'time': (['time'], time)\n",
    "    },\n",
    "    attrs={'contact':'Luke Gloege (gloege@ldeo.columbia.edu)',\n",
    "           'creation_date':'21 September 2019',\n",
    "           'notes':'raw data was not manipulated',\n",
    "           'original_data':'https://www.esrl.noaa.gov/gmd/ccgg/mbl/'})"
   ]
  },
  {
   "cell_type": "code",
   "execution_count": 56,
   "metadata": {},
   "outputs": [
    {
     "name": "stdout",
     "output_type": "stream",
     "text": [
      "xarray.Dataset {\n",
      "dimensions:\n",
      "\ttime = 1921 ;\n",
      "\n",
      "variables:\n",
      "\tfloat64 xco2(time) ;\n",
      "\t\txco2:long_name = mixing ratio of atmospheric CO2 ;\n",
      "\t\txco2:units = ppmv ;\n",
      "\tfloat64 xco2_uncertainty(time) ;\n",
      "\t\txco2_uncertainty:long_name = mixing ratio of atmospheric CO2 uncertainty ;\n",
      "\t\txco2_uncertainty:units = ppmv ;\n",
      "\tint64 year(time) ;\n",
      "\t\tyear:long_name = years ;\n",
      "\tint64 month(time) ;\n",
      "\t\tmonth:long_name = month ;\n",
      "\tint64 day(time) ;\n",
      "\t\tday:long_name = days ;\n",
      "\tdatetime64[ns] time(time) ;\n",
      "\n",
      "// global attributes:\n",
      "\t:contact = Luke Gloege (gloege@ldeo.columbia.edu) ;\n",
      "\t:creation_date = 21 September 2019 ;\n",
      "\t:notes = raw data was not manipulated ;\n",
      "\t:original_data = https://www.esrl.noaa.gov/gmd/ccgg/mbl/ ;\n",
      "}"
     ]
    }
   ],
   "source": [
    "ds_out.info()"
   ]
  },
  {
   "cell_type": "markdown",
   "metadata": {},
   "source": [
    "## Save native data in netcdf"
   ]
  },
  {
   "cell_type": "code",
   "execution_count": 57,
   "metadata": {},
   "outputs": [],
   "source": [
    "ds_out.to_netcdf(f'{dir_obs}/globalview/processed/xco2_zonal_weekly_globalview_197901-201812.nc')"
   ]
  },
  {
   "cell_type": "markdown",
   "metadata": {},
   "source": [
    "## Sample the data monthly"
   ]
  },
  {
   "cell_type": "code",
   "execution_count": 64,
   "metadata": {},
   "outputs": [
    {
     "name": "stdout",
     "output_type": "stream",
     "text": [
      "dates shape = (480,)\n"
     ]
    }
   ],
   "source": [
    "# Define Dates\n",
    "dates = pd.date_range(start='1979-01-01T00:00:00.000000000', \n",
    "                      end='2018-12-01T00:00:00.000000000',freq='MS')+ np.timedelta64(14, 'D')\n",
    "print(f'dates shape = {np.shape(dates)}')"
   ]
  },
  {
   "cell_type": "code",
   "execution_count": 68,
   "metadata": {},
   "outputs": [],
   "source": [
    "ds_out_monthly = xr.Dataset(\n",
    "    {\n",
    "    'xco2':(['time'], ds_out['xco2'].resample(time='1MS').mean().values, \n",
    "            {'long_name':'mixing ratio of atmospheric CO2',\n",
    "            'units':'ppmv',\n",
    "            'notes':'monthly averages from weekly data'})\n",
    "    },\n",
    "\n",
    "    coords={\n",
    "    'time': (['time'], dates)\n",
    "    },\n",
    "    attrs={'contact':'Luke Gloege (gloege@ldeo.columbia.edu)',\n",
    "           'creation_date':'21 September 2019',\n",
    "           'notes':'these are monthly averages from raw weekly data',\n",
    "           'original_data':'https://www.esrl.noaa.gov/gmd/ccgg/mbl/'})"
   ]
  },
  {
   "cell_type": "code",
   "execution_count": 70,
   "metadata": {},
   "outputs": [
    {
     "name": "stdout",
     "output_type": "stream",
     "text": [
      "xarray.Dataset {\n",
      "dimensions:\n",
      "\ttime = 480 ;\n",
      "\n",
      "variables:\n",
      "\tfloat64 xco2(time) ;\n",
      "\t\txco2:long_name = mixing ratio of atmospheric CO2 ;\n",
      "\t\txco2:units = ppmv ;\n",
      "\t\txco2:notes = monthly averages from weekly data ;\n",
      "\tdatetime64[ns] time(time) ;\n",
      "\n",
      "// global attributes:\n",
      "\t:contact = Luke Gloege (gloege@ldeo.columbia.edu) ;\n",
      "\t:creation_date = 21 September 2019 ;\n",
      "\t:notes = these are monthly averages from raw weekly data ;\n",
      "\t:original_data = https://www.esrl.noaa.gov/gmd/ccgg/mbl/ ;\n",
      "}"
     ]
    }
   ],
   "source": [
    "ds_out_monthly.info()"
   ]
  },
  {
   "cell_type": "code",
   "execution_count": 71,
   "metadata": {},
   "outputs": [],
   "source": [
    "ds_out_monthly.to_netcdf(f'{dir_obs}/globalview/processed/xco2_zonal_mon_globalview_197901-201812.nc')"
   ]
  },
  {
   "cell_type": "markdown",
   "metadata": {},
   "source": [
    "## Repeat monthly data to be 1x1"
   ]
  },
  {
   "cell_type": "code",
   "execution_count": 72,
   "metadata": {},
   "outputs": [],
   "source": [
    "lon = np.arange(0.5,360,1)\n",
    "lat = np.arange(-89.5,90,1)\n",
    "ds_bc = xr.DataArray(np.zeros([len(lon),len(lat)]), coords=[('lon', lon),('lat', lat)])\n",
    "ds_data, ds_mask = xr.broadcast(ds_out_monthly, ds_bc)"
   ]
  },
  {
   "cell_type": "code",
   "execution_count": 86,
   "metadata": {},
   "outputs": [],
   "source": [
    "ds_data.transpose('time', 'lat', 'lon').to_netcdf(f'{dir_obs}/globalview/processed/xco2_1x1_mon_globalview_197901-201812.nc')"
   ]
  },
  {
   "cell_type": "markdown",
   "metadata": {},
   "source": [
    "# Other snippets"
   ]
  },
  {
   "cell_type": "code",
   "execution_count": null,
   "metadata": {},
   "outputs": [],
   "source": [
    "# Surface file\n",
    "#fl = f'{dir_obs}/globalview/originals/co2_GHGreference.424818983_surface.txt'\n",
    "#df = pd.read_csv(fl, sep='\\s+', skiprows=78, header=None, index_col=0)\n",
    "#df.index.name = 'decimal-year'\n",
    "#df.head()\n",
    "#df = df.iloc[:,::2]\n",
    "#df.head()\n",
    "#df.columns = 'CO2'\n",
    "#df.index.name = 'decimal-year'\n",
    "\n",
    "#df.index.name = 'decimal-year'\n",
    "#df.head()\n",
    "#df = df.iloc[:,::2]\n",
    "#df.head()\n",
    "#df.columns = 'CO2'\n",
    "#df.index.name = 'decimal-year'"
   ]
  },
  {
   "cell_type": "code",
   "execution_count": null,
   "metadata": {},
   "outputs": [],
   "source": [
    "#ds_hind = xr.open_dataset(f'{dir_hindcast}/CESM-hindcast_XCO2_1x1_198201-201512.nc')\n",
    "#plt.plot(ds_data['time'], ds_data['XCO2'][:,0,0])\n",
    "#plt.plot(ds_hind['time'], ds_hind['XCO2'][:,50,50])"
   ]
  }
 ],
 "metadata": {
  "kernelspec": {
   "display_name": "tensorflow",
   "language": "python",
   "name": "tensorflow"
  },
  "language_info": {
   "codemirror_mode": {
    "name": "ipython",
    "version": 3
   },
   "file_extension": ".py",
   "mimetype": "text/x-python",
   "name": "python",
   "nbconvert_exporter": "python",
   "pygments_lexer": "ipython3",
   "version": "3.6.7"
  }
 },
 "nbformat": 4,
 "nbformat_minor": 2
}
