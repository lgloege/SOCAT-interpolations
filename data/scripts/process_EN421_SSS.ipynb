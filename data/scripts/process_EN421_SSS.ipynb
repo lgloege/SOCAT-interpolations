{
 "cells": [
  {
   "cell_type": "markdown",
   "metadata": {},
   "source": [
    "# Process : EN421 salinity\n",
    "_process already re-gridded EN421 salinity_\n",
    "\n",
    "- **Original**: `/local/data/artemis/observations/EN421_salinity/processed/mld_DT02_1x1_clim.nc`\n",
    "- **Processed**: `/local/data/artemis/observations/EN421_salinity/processed/mld_1x1_clim_deBoyer_198201-201712.nc`\n",
    "- **Variable**: salinity\n",
    "- **Temporal**: Monthly, 198201 - 201712\n",
    "- **Spatial**: 1x1 degree, interpolated from native grid\n",
    "\n",
    "Laste update : 20 September 2019 L. Gloege"
   ]
  },
  {
   "cell_type": "code",
   "execution_count": 1,
   "metadata": {},
   "outputs": [],
   "source": [
    "import xarray as xr\n",
    "import numpy as np\n",
    "import pandas as pd"
   ]
  },
  {
   "cell_type": "code",
   "execution_count": 2,
   "metadata": {},
   "outputs": [],
   "source": [
    "# Observations directory\n",
    "dir_obs = '/local/data/artemis/observations'"
   ]
  },
  {
   "cell_type": "code",
   "execution_count": 3,
   "metadata": {},
   "outputs": [],
   "source": [
    "# Load data\n",
    "ds = xr.open_dataset(f'{dir_obs}/EN421_salinity/processed/EN421_1x1_198201-201712.nc')"
   ]
  },
  {
   "cell_type": "code",
   "execution_count": 5,
   "metadata": {},
   "outputs": [
    {
     "name": "stdout",
     "output_type": "stream",
     "text": [
      "dates shape = (432,)\n"
     ]
    }
   ],
   "source": [
    "# Define Dates\n",
    "dates = pd.date_range(start='1982-01-01T00:00:00.000000000', \n",
    "                      end='2017-12-01T00:00:00.000000000',freq='MS')+ np.timedelta64(14, 'D')\n",
    "print(f'dates shape = {np.shape(dates)}')"
   ]
  },
  {
   "cell_type": "code",
   "execution_count": 6,
   "metadata": {},
   "outputs": [],
   "source": [
    "ds_out = xr.Dataset(\n",
    "    {\n",
    "    'sss':(['time','lat', 'lon'], ds['salinity'].squeeze(), \n",
    "           {'long_name':'sea surface salinity',\n",
    "            'units':'psu'}),\n",
    "    },\n",
    "\n",
    "    coords={\n",
    "    'lat': (['lat'], ds['ylat'], {'units':'degrees_north'}),\n",
    "    'lon': (['lon'], ds['xlon'], {'units':'degrees_east'}),\n",
    "    'time': (['time'], dates)\n",
    "    },\n",
    "    attrs={'contact':'Luke Gloege (gloege@ldeo.columbia.edu)',\n",
    "           'creation_date':'20 September 2019',\n",
    "           'notes':'original_data was bi-linearly regridded and only surface selected',\n",
    "           'original_data':'https://www.metoffice.gov.uk/hadobs/en4/'})"
   ]
  },
  {
   "cell_type": "code",
   "execution_count": 11,
   "metadata": {},
   "outputs": [
    {
     "name": "stdout",
     "output_type": "stream",
     "text": [
      "xarray.Dataset {\n",
      "dimensions:\n",
      "\tlat = 180 ;\n",
      "\tlon = 360 ;\n",
      "\ttime = 432 ;\n",
      "\n",
      "variables:\n",
      "\tfloat32 sss(time, lat, lon) ;\n",
      "\t\tsss:long_name = sea surface salinity ;\n",
      "\t\tsss:units = psu ;\n",
      "\tfloat64 lat(lat) ;\n",
      "\t\tlat:units = degrees_north ;\n",
      "\tfloat64 lon(lon) ;\n",
      "\t\tlon:units = degrees_east ;\n",
      "\tdatetime64[ns] time(time) ;\n",
      "\n",
      "// global attributes:\n",
      "\t:contact = Luke Gloege (gloege@ldeo.columbia.edu) ;\n",
      "\t:creation_date = 20 September 2019 ;\n",
      "\t:notes = original_data was bi-linearly regridded and only surface selected ;\n",
      "\t:original_data = https://www.metoffice.gov.uk/hadobs/en4/ ;\n",
      "}"
     ]
    }
   ],
   "source": [
    "ds_out.info()"
   ]
  },
  {
   "cell_type": "markdown",
   "metadata": {},
   "source": [
    "## Save to NetCDF"
   ]
  },
  {
   "cell_type": "code",
   "execution_count": 13,
   "metadata": {},
   "outputs": [
    {
     "name": "stderr",
     "output_type": "stream",
     "text": [
      "/home/gloege/miniconda3/envs/dev/lib/python3.6/site-packages/xarray/coding/times.py:244: FutureWarning: the 'box' keyword is deprecated and will be removed in a future version. Please take steps to stop the use of 'box'\n",
      "  dates = pd.to_datetime(dates, box=False)\n"
     ]
    }
   ],
   "source": [
    "ds_out.to_netcdf(f'{dir_obs}/EN421_salinity/processed/sss_1x1_mon_EN421_198201-201712.nc')"
   ]
  }
 ],
 "metadata": {
  "kernelspec": {
   "display_name": "tensorflow",
   "language": "python",
   "name": "tensorflow"
  },
  "language_info": {
   "codemirror_mode": {
    "name": "ipython",
    "version": 3
   },
   "file_extension": ".py",
   "mimetype": "text/x-python",
   "name": "python",
   "nbconvert_exporter": "python",
   "pygments_lexer": "ipython3",
   "version": "3.6.7"
  }
 },
 "nbformat": 4,
 "nbformat_minor": 2
}
