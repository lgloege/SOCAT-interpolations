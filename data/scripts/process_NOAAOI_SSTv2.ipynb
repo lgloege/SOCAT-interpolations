{
 "cells": [
  {
   "cell_type": "markdown",
   "metadata": {},
   "source": [
    "# Process : NOAAOI SSTv2\n",
    "_process NOAAOI SST product_\n",
    "\n",
    "- **Original**: `/local/data/artemis/observations/NOAA_OI_SSTv2`\n",
    "- **Processed**: `/local/data/artemis/observations/NOAA_OI_SSTv2`\n",
    "- **Variable**: sst\n",
    "- **Temporal**: Monthly, 198112 - 201908\n",
    "- **Spatial**: 1x1 degree, interpolated from native grid\n",
    "- **todo**: \n",
    "\n",
    "Laste update : 20 September 2019 L. Gloege"
   ]
  },
  {
   "cell_type": "code",
   "execution_count": 1,
   "metadata": {},
   "outputs": [],
   "source": [
    "import xarray as xr\n",
    "import numpy as np\n",
    "import pandas as pd\n",
    "import matplotlib.pyplot as plt"
   ]
  },
  {
   "cell_type": "code",
   "execution_count": 2,
   "metadata": {},
   "outputs": [],
   "source": [
    "# Observations directory\n",
    "dir_obs = '/local/data/artemis/observations'"
   ]
  },
  {
   "cell_type": "code",
   "execution_count": 3,
   "metadata": {},
   "outputs": [],
   "source": [
    "# Load raw data\n",
    "ds = xr.open_dataset(f'{dir_obs}/NOAA_OI_SSTv2/originals/sst.mnmean.nc')"
   ]
  },
  {
   "cell_type": "code",
   "execution_count": 4,
   "metadata": {},
   "outputs": [],
   "source": [
    "# flip latitudes so is in increasing order\n",
    "ds = ds.sortby('lat')"
   ]
  },
  {
   "cell_type": "code",
   "execution_count": 5,
   "metadata": {},
   "outputs": [
    {
     "name": "stdout",
     "output_type": "stream",
     "text": [
      "start: 1981-12-01T00:00:00.000000000, end: 2019-08-01T00:00:00.000000000\n"
     ]
    }
   ],
   "source": [
    "print(f'start: {ds.time[0].values}, end: {ds.time[-1].values}')"
   ]
  },
  {
   "cell_type": "code",
   "execution_count": 6,
   "metadata": {},
   "outputs": [
    {
     "data": {
      "text/plain": [
       "(453,)"
      ]
     },
     "execution_count": 6,
     "metadata": {},
     "output_type": "execute_result"
    }
   ],
   "source": [
    "# Make time vector (want it to be centered on 15th of the month)\n",
    "dates = pd.date_range(start=str(ds.time[0].values), \n",
    "                      end=str(ds.time[-1].values),freq='MS')+ np.timedelta64(14, 'D')\n",
    "da_dates = xr.DataArray(dates, dims='time')\n",
    "np.shape(da_dates)"
   ]
  },
  {
   "cell_type": "code",
   "execution_count": 7,
   "metadata": {},
   "outputs": [
    {
     "name": "stdout",
     "output_type": "stream",
     "text": [
      "1981-12-15 00:00:00\n",
      "2019-08-15 00:00:00\n"
     ]
    }
   ],
   "source": [
    "print(dates[0])\n",
    "print(dates[-1])"
   ]
  },
  {
   "cell_type": "markdown",
   "metadata": {},
   "source": [
    "# Save raw data as NetCDF"
   ]
  },
  {
   "cell_type": "code",
   "execution_count": 8,
   "metadata": {},
   "outputs": [],
   "source": [
    "ds_out = xr.Dataset(\n",
    "    {\n",
    "    'sst':(['time','lat', 'lon'], ds['sst'],\n",
    "          {'long_name':'sea surface temperature',\n",
    "            'units':'degC'}),\n",
    "    },\n",
    "\n",
    "    coords={\n",
    "    'lat': (['lat'], ds['lat'], {'units':'degrees_north'}),\n",
    "    'lon': (['lon'], ds['lon'], {'units':'degrees_east'}),\n",
    "    'time': (['time'], da_dates)\n",
    "    },\n",
    "    attrs={'contact':'Luke Gloege (gloege@ldeo.columbia.edu)',\n",
    "           'creation_date':'21 September 2019',\n",
    "           'notes':'original data, no manipulation',\n",
    "           'original_data':'https://www.esrl.noaa.gov/psd/data/gridded/data.noaa.oisst.v2.html'})"
   ]
  },
  {
   "cell_type": "code",
   "execution_count": 9,
   "metadata": {},
   "outputs": [
    {
     "name": "stdout",
     "output_type": "stream",
     "text": [
      "xarray.Dataset {\n",
      "dimensions:\n",
      "\tlat = 180 ;\n",
      "\tlon = 360 ;\n",
      "\ttime = 453 ;\n",
      "\n",
      "variables:\n",
      "\tfloat32 sst(time, lat, lon) ;\n",
      "\t\tsst:long_name = sea surface temperature ;\n",
      "\t\tsst:units = degC ;\n",
      "\tfloat32 lat(lat) ;\n",
      "\t\tlat:units = degrees_north ;\n",
      "\tfloat32 lon(lon) ;\n",
      "\t\tlon:units = degrees_east ;\n",
      "\tdatetime64[ns] time(time) ;\n",
      "\n",
      "// global attributes:\n",
      "\t:contact = Luke Gloege (gloege@ldeo.columbia.edu) ;\n",
      "\t:creation_date = 21 September 2019 ;\n",
      "\t:notes = original data, no manipulation ;\n",
      "\t:original_data = https://www.esrl.noaa.gov/psd/data/gridded/data.noaa.oisst.v2.html ;\n",
      "}"
     ]
    }
   ],
   "source": [
    "ds_out.info()"
   ]
  },
  {
   "cell_type": "code",
   "execution_count": 10,
   "metadata": {},
   "outputs": [],
   "source": [
    "ds_out.to_netcdf(f'{dir_obs}/NOAA_OI_SSTv2/processed/sst_1x1_mon_NOAAOIv2_198112-201908.nc')"
   ]
  },
  {
   "cell_type": "markdown",
   "metadata": {},
   "source": [
    "# Testing"
   ]
  },
  {
   "cell_type": "code",
   "execution_count": 11,
   "metadata": {},
   "outputs": [
    {
     "data": {
      "text/plain": [
       "<xarray.DataArray 'lat' (lat: 180)>\n",
       "array([-89.5, -88.5, -87.5, -86.5, -85.5, -84.5, -83.5, -82.5, -81.5, -80.5,\n",
       "       -79.5, -78.5, -77.5, -76.5, -75.5, -74.5, -73.5, -72.5, -71.5, -70.5,\n",
       "       -69.5, -68.5, -67.5, -66.5, -65.5, -64.5, -63.5, -62.5, -61.5, -60.5,\n",
       "       -59.5, -58.5, -57.5, -56.5, -55.5, -54.5, -53.5, -52.5, -51.5, -50.5,\n",
       "       -49.5, -48.5, -47.5, -46.5, -45.5, -44.5, -43.5, -42.5, -41.5, -40.5,\n",
       "       -39.5, -38.5, -37.5, -36.5, -35.5, -34.5, -33.5, -32.5, -31.5, -30.5,\n",
       "       -29.5, -28.5, -27.5, -26.5, -25.5, -24.5, -23.5, -22.5, -21.5, -20.5,\n",
       "       -19.5, -18.5, -17.5, -16.5, -15.5, -14.5, -13.5, -12.5, -11.5, -10.5,\n",
       "        -9.5,  -8.5,  -7.5,  -6.5,  -5.5,  -4.5,  -3.5,  -2.5,  -1.5,  -0.5,\n",
       "         0.5,   1.5,   2.5,   3.5,   4.5,   5.5,   6.5,   7.5,   8.5,   9.5,\n",
       "        10.5,  11.5,  12.5,  13.5,  14.5,  15.5,  16.5,  17.5,  18.5,  19.5,\n",
       "        20.5,  21.5,  22.5,  23.5,  24.5,  25.5,  26.5,  27.5,  28.5,  29.5,\n",
       "        30.5,  31.5,  32.5,  33.5,  34.5,  35.5,  36.5,  37.5,  38.5,  39.5,\n",
       "        40.5,  41.5,  42.5,  43.5,  44.5,  45.5,  46.5,  47.5,  48.5,  49.5,\n",
       "        50.5,  51.5,  52.5,  53.5,  54.5,  55.5,  56.5,  57.5,  58.5,  59.5,\n",
       "        60.5,  61.5,  62.5,  63.5,  64.5,  65.5,  66.5,  67.5,  68.5,  69.5,\n",
       "        70.5,  71.5,  72.5,  73.5,  74.5,  75.5,  76.5,  77.5,  78.5,  79.5,\n",
       "        80.5,  81.5,  82.5,  83.5,  84.5,  85.5,  86.5,  87.5,  88.5,  89.5],\n",
       "      dtype=float32)\n",
       "Coordinates:\n",
       "  * lat      (lat) float32 -89.5 -88.5 -87.5 -86.5 -85.5 ... 86.5 87.5 88.5 89.5\n",
       "Attributes:\n",
       "    units:    degrees_north"
      ]
     },
     "execution_count": 11,
     "metadata": {},
     "output_type": "execute_result"
    }
   ],
   "source": [
    "ds_out.lat"
   ]
  },
  {
   "cell_type": "code",
   "execution_count": null,
   "metadata": {},
   "outputs": [],
   "source": []
  }
 ],
 "metadata": {
  "kernelspec": {
   "display_name": "tensorflow",
   "language": "python",
   "name": "tensorflow"
  },
  "language_info": {
   "codemirror_mode": {
    "name": "ipython",
    "version": 3
   },
   "file_extension": ".py",
   "mimetype": "text/x-python",
   "name": "python",
   "nbconvert_exporter": "python",
   "pygments_lexer": "ipython3",
   "version": "3.6.7"
  }
 },
 "nbformat": 4,
 "nbformat_minor": 2
}
