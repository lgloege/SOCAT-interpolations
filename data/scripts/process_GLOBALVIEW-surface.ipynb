{
 "cells": [
  {
   "cell_type": "markdown",
   "metadata": {},
   "source": [
    "# Process GLOBALVIEW data\n",
    "This script processes the GLOBALVIEW CO2 data. it first takes it from a .txt file and filters out the data. It then puts the data into a pandas dataframe."
   ]
  },
  {
   "cell_type": "code",
   "execution_count": 1,
   "metadata": {},
   "outputs": [],
   "source": [
    "import xarray as xr\n",
    "import numpy as np\n",
    "import pandas as pd\n",
    "import matplotlib.pyplot as plt"
   ]
  },
  {
   "cell_type": "code",
   "execution_count": 5,
   "metadata": {},
   "outputs": [],
   "source": [
    "fl = '/local/data/artemis/workspace/gloege/LDEO-FFN/data/obs/raw/CO2/globalview-CO2_surface.txt'"
   ]
  },
  {
   "cell_type": "code",
   "execution_count": 2,
   "metadata": {},
   "outputs": [],
   "source": [
    "# Sine of that latitudes \n",
    "sin_of_lats = np.asarray([-1.00, -0.95, -0.90, -0.85, -0.80, -0.75, -0.70, -0.65, -0.60, -0.55,  \n",
    "-0.50,  -0.45,  -0.40,  -0.35, -0.30,  -0.25,  -0.20,  -0.15,  -0.10,  -0.05,   \n",
    "0.00,   0.05,   0.10,   0.15,   0.20,   0.25,   0.30,   0.35,   0.40,   0.45,   \n",
    "0.50,   0.55,   0.60,   0.65,   0.70,   0.75,   0.80,   0.85,   0.90,   0.95,   1.00])\n",
    "\n",
    "# Convert to degrees \n",
    "lats = np.arcsin(sin_of_lats)*180/np.pi"
   ]
  },
  {
   "cell_type": "code",
   "execution_count": 7,
   "metadata": {},
   "outputs": [],
   "source": [
    "df = pd.read_table(fl, skiprows=78, delim_whitespace=True, header=None)\n",
    "df = df.set_index(list(df)[0]).iloc[:, ::2]\n",
    "df.columns = lats\n",
    "df.index.name = 'year'"
   ]
  },
  {
   "cell_type": "code",
   "execution_count": 5,
   "metadata": {},
   "outputs": [
    {
     "data": {
      "text/plain": [
       "array([18.19487234,  7.64706042,  5.94639785,  5.08156703,  4.53972446,\n",
       "        4.16337389,  3.88540213,  3.67170423,  3.50288468,  3.36701297,\n",
       "        3.25631605,  3.16550547,  3.09086336,  3.02971199,  2.98009094,\n",
       "        2.94055315,  2.91003247,  2.88775608,  2.87318649,  2.86598398,\n",
       "        2.86598398,  2.87318649,  2.88775608,  2.91003247,  2.94055315,\n",
       "        2.98009094,  3.02971199,  3.09086336,  3.16550547,  3.25631605,\n",
       "        3.36701297,  3.50288468,  3.67170423,  3.88540213,  4.16337389,\n",
       "        4.53972446,  5.08156703,  5.94639785,  7.64706042, 18.19487234])"
      ]
     },
     "execution_count": 5,
     "metadata": {},
     "output_type": "execute_result"
    }
   ],
   "source": [
    "np.diff(lats)"
   ]
  },
  {
   "cell_type": "code",
   "execution_count": 8,
   "metadata": {},
   "outputs": [
    {
     "data": {
      "text/html": [
       "<div>\n",
       "<style scoped>\n",
       "    .dataframe tbody tr th:only-of-type {\n",
       "        vertical-align: middle;\n",
       "    }\n",
       "\n",
       "    .dataframe tbody tr th {\n",
       "        vertical-align: top;\n",
       "    }\n",
       "\n",
       "    .dataframe thead th {\n",
       "        text-align: right;\n",
       "    }\n",
       "</style>\n",
       "<table border=\"1\" class=\"dataframe\">\n",
       "  <thead>\n",
       "    <tr style=\"text-align: right;\">\n",
       "      <th></th>\n",
       "      <th>-90.0</th>\n",
       "      <th>-71.80512766123321</th>\n",
       "      <th>-64.15806723683288</th>\n",
       "      <th>-58.21166938294838</th>\n",
       "      <th>-53.13010235415598</th>\n",
       "      <th>-48.590377890729144</th>\n",
       "      <th>-44.4270040008057</th>\n",
       "      <th>-40.54160187350453</th>\n",
       "      <th>-36.86989764584402</th>\n",
       "      <th>-33.36701296923176</th>\n",
       "      <th>...</th>\n",
       "      <th>33.36701296923176</th>\n",
       "      <th>36.86989764584402</th>\n",
       "      <th>40.54160187350453</th>\n",
       "      <th>44.4270040008057</th>\n",
       "      <th>48.590377890729144</th>\n",
       "      <th>53.13010235415598</th>\n",
       "      <th>58.21166938294838</th>\n",
       "      <th>64.15806723683288</th>\n",
       "      <th>71.80512766123321</th>\n",
       "      <th>90.0</th>\n",
       "    </tr>\n",
       "    <tr>\n",
       "      <th>year</th>\n",
       "      <th></th>\n",
       "      <th></th>\n",
       "      <th></th>\n",
       "      <th></th>\n",
       "      <th></th>\n",
       "      <th></th>\n",
       "      <th></th>\n",
       "      <th></th>\n",
       "      <th></th>\n",
       "      <th></th>\n",
       "      <th></th>\n",
       "      <th></th>\n",
       "      <th></th>\n",
       "      <th></th>\n",
       "      <th></th>\n",
       "      <th></th>\n",
       "      <th></th>\n",
       "      <th></th>\n",
       "      <th></th>\n",
       "      <th></th>\n",
       "      <th></th>\n",
       "    </tr>\n",
       "  </thead>\n",
       "  <tbody>\n",
       "    <tr>\n",
       "      <th>1979.000000</th>\n",
       "      <td>334.636</td>\n",
       "      <td>334.640</td>\n",
       "      <td>334.641</td>\n",
       "      <td>334.634</td>\n",
       "      <td>334.618</td>\n",
       "      <td>334.590</td>\n",
       "      <td>334.553</td>\n",
       "      <td>334.508</td>\n",
       "      <td>334.458</td>\n",
       "      <td>334.405</td>\n",
       "      <td>...</td>\n",
       "      <td>338.767</td>\n",
       "      <td>338.966</td>\n",
       "      <td>339.078</td>\n",
       "      <td>339.140</td>\n",
       "      <td>339.185</td>\n",
       "      <td>339.234</td>\n",
       "      <td>339.293</td>\n",
       "      <td>339.356</td>\n",
       "      <td>339.418</td>\n",
       "      <td>339.472</td>\n",
       "    </tr>\n",
       "    <tr>\n",
       "      <th>1979.020833</th>\n",
       "      <td>334.549</td>\n",
       "      <td>334.564</td>\n",
       "      <td>334.578</td>\n",
       "      <td>334.587</td>\n",
       "      <td>334.588</td>\n",
       "      <td>334.580</td>\n",
       "      <td>334.564</td>\n",
       "      <td>334.540</td>\n",
       "      <td>334.512</td>\n",
       "      <td>334.481</td>\n",
       "      <td>...</td>\n",
       "      <td>339.200</td>\n",
       "      <td>339.410</td>\n",
       "      <td>339.528</td>\n",
       "      <td>339.588</td>\n",
       "      <td>339.622</td>\n",
       "      <td>339.646</td>\n",
       "      <td>339.669</td>\n",
       "      <td>339.692</td>\n",
       "      <td>339.714</td>\n",
       "      <td>339.732</td>\n",
       "    </tr>\n",
       "    <tr>\n",
       "      <th>1979.041667</th>\n",
       "      <td>334.449</td>\n",
       "      <td>334.474</td>\n",
       "      <td>334.500</td>\n",
       "      <td>334.524</td>\n",
       "      <td>334.545</td>\n",
       "      <td>334.560</td>\n",
       "      <td>334.569</td>\n",
       "      <td>334.573</td>\n",
       "      <td>334.573</td>\n",
       "      <td>334.570</td>\n",
       "      <td>...</td>\n",
       "      <td>339.579</td>\n",
       "      <td>339.787</td>\n",
       "      <td>339.902</td>\n",
       "      <td>339.957</td>\n",
       "      <td>339.981</td>\n",
       "      <td>339.991</td>\n",
       "      <td>339.995</td>\n",
       "      <td>339.998</td>\n",
       "      <td>339.999</td>\n",
       "      <td>340.001</td>\n",
       "    </tr>\n",
       "    <tr>\n",
       "      <th>1979.062500</th>\n",
       "      <td>334.338</td>\n",
       "      <td>334.372</td>\n",
       "      <td>334.409</td>\n",
       "      <td>334.449</td>\n",
       "      <td>334.490</td>\n",
       "      <td>334.529</td>\n",
       "      <td>334.565</td>\n",
       "      <td>334.598</td>\n",
       "      <td>334.627</td>\n",
       "      <td>334.654</td>\n",
       "      <td>...</td>\n",
       "      <td>339.893</td>\n",
       "      <td>340.087</td>\n",
       "      <td>340.190</td>\n",
       "      <td>340.237</td>\n",
       "      <td>340.254</td>\n",
       "      <td>340.261</td>\n",
       "      <td>340.266</td>\n",
       "      <td>340.270</td>\n",
       "      <td>340.274</td>\n",
       "      <td>340.278</td>\n",
       "    </tr>\n",
       "    <tr>\n",
       "      <th>1979.083333</th>\n",
       "      <td>334.221</td>\n",
       "      <td>334.263</td>\n",
       "      <td>334.311</td>\n",
       "      <td>334.366</td>\n",
       "      <td>334.425</td>\n",
       "      <td>334.486</td>\n",
       "      <td>334.547</td>\n",
       "      <td>334.606</td>\n",
       "      <td>334.663</td>\n",
       "      <td>334.717</td>\n",
       "      <td>...</td>\n",
       "      <td>340.143</td>\n",
       "      <td>340.314</td>\n",
       "      <td>340.400</td>\n",
       "      <td>340.437</td>\n",
       "      <td>340.454</td>\n",
       "      <td>340.470</td>\n",
       "      <td>340.491</td>\n",
       "      <td>340.516</td>\n",
       "      <td>340.542</td>\n",
       "      <td>340.564</td>\n",
       "    </tr>\n",
       "  </tbody>\n",
       "</table>\n",
       "<p>5 rows × 41 columns</p>\n",
       "</div>"
      ],
      "text/plain": [
       "             -90.000000  -71.805128  -64.158067  -58.211669  -53.130102  \\\n",
       "year                                                                      \n",
       "1979.000000     334.636     334.640     334.641     334.634     334.618   \n",
       "1979.020833     334.549     334.564     334.578     334.587     334.588   \n",
       "1979.041667     334.449     334.474     334.500     334.524     334.545   \n",
       "1979.062500     334.338     334.372     334.409     334.449     334.490   \n",
       "1979.083333     334.221     334.263     334.311     334.366     334.425   \n",
       "\n",
       "             -48.590378  -44.427004  -40.541602  -36.869898  -33.367013  \\\n",
       "year                                                                      \n",
       "1979.000000     334.590     334.553     334.508     334.458     334.405   \n",
       "1979.020833     334.580     334.564     334.540     334.512     334.481   \n",
       "1979.041667     334.560     334.569     334.573     334.573     334.570   \n",
       "1979.062500     334.529     334.565     334.598     334.627     334.654   \n",
       "1979.083333     334.486     334.547     334.606     334.663     334.717   \n",
       "\n",
       "                ...       33.367013   36.869898   40.541602   44.427004  \\\n",
       "year            ...                                                       \n",
       "1979.000000     ...         338.767     338.966     339.078     339.140   \n",
       "1979.020833     ...         339.200     339.410     339.528     339.588   \n",
       "1979.041667     ...         339.579     339.787     339.902     339.957   \n",
       "1979.062500     ...         339.893     340.087     340.190     340.237   \n",
       "1979.083333     ...         340.143     340.314     340.400     340.437   \n",
       "\n",
       "              48.590378   53.130102   58.211669   64.158067   71.805128  \\\n",
       "year                                                                      \n",
       "1979.000000     339.185     339.234     339.293     339.356     339.418   \n",
       "1979.020833     339.622     339.646     339.669     339.692     339.714   \n",
       "1979.041667     339.981     339.991     339.995     339.998     339.999   \n",
       "1979.062500     340.254     340.261     340.266     340.270     340.274   \n",
       "1979.083333     340.454     340.470     340.491     340.516     340.542   \n",
       "\n",
       "              90.000000  \n",
       "year                     \n",
       "1979.000000     339.472  \n",
       "1979.020833     339.732  \n",
       "1979.041667     340.001  \n",
       "1979.062500     340.278  \n",
       "1979.083333     340.564  \n",
       "\n",
       "[5 rows x 41 columns]"
      ]
     },
     "execution_count": 8,
     "metadata": {},
     "output_type": "execute_result"
    }
   ],
   "source": [
    "df.head()"
   ]
  },
  {
   "cell_type": "code",
   "execution_count": 10,
   "metadata": {},
   "outputs": [
    {
     "data": {
      "text/plain": [
       "[<matplotlib.lines.Line2D at 0x7f2a11682a20>]"
      ]
     },
     "execution_count": 10,
     "metadata": {},
     "output_type": "execute_result"
    },
    {
     "data": {
      "image/png": "[encoded data removed]",
      "text/plain": [
       "<Figure size 432x288 with 1 Axes>"
      ]
     },
     "metadata": {
      "needs_background": "light"
     },
     "output_type": "display_data"
    }
   ],
   "source": [
    "plt.plot(df.index, df.iloc[:,40])"
   ]
  },
  {
   "cell_type": "markdown",
   "metadata": {},
   "source": [
    "# Create NetCDF File\n",
    "the NOAA MLB product uses ~weekly data. there are 48 equal time steps each year (~7.6 days)"
   ]
  },
  {
   "cell_type": "code",
   "execution_count": 11,
   "metadata": {},
   "outputs": [],
   "source": [
    "dir_obs = '/local/data/artemis/workspace/gloege/LDEO-FFN/data/obs'\n",
    "dir_hindcast = '/local/data/artemis/workspace/gloege/LDEO-FFN/data/hindcast'\n",
    "dir_raw = '/local/data/artemis/workspace/gloege/LDEO-FFN/data/raw'"
   ]
  },
  {
   "cell_type": "code",
   "execution_count": 27,
   "metadata": {},
   "outputs": [],
   "source": [
    "### ================================================\n",
    "### force time vector to be proper format and range\n",
    "### ================================================\n",
    "dates = pd.date_range(start='1979-01-01T00:00:00.000000000', \n",
    "                      end='2018-01-01T00:00:00.000000000', periods=1873)\n",
    "da_dates = xr.DataArray(dates, dims='time')"
   ]
  },
  {
   "cell_type": "code",
   "execution_count": 28,
   "metadata": {},
   "outputs": [
    {
     "name": "stdout",
     "output_type": "stream",
     "text": [
      "(1873, 41)\n",
      "(1873,)\n",
      "(41,)\n"
     ]
    }
   ],
   "source": [
    "print(np.shape(df.values))\n",
    "print(np.shape(da_dates))\n",
    "print(np.shape(lats))"
   ]
  },
  {
   "cell_type": "code",
   "execution_count": 29,
   "metadata": {},
   "outputs": [],
   "source": [
    "ds_out = xr.Dataset(\n",
    "    {\n",
    "    'XCO2':(['time','lat'], df.values ),\n",
    "    },\n",
    "\n",
    "    coords={\n",
    "    'lat': (['lat'], lats),\n",
    "    'time': (['time'], da_dates)\n",
    "    })"
   ]
  },
  {
   "cell_type": "code",
   "execution_count": 30,
   "metadata": {},
   "outputs": [
    {
     "data": {
      "text/plain": [
       "<xarray.Dataset>\n",
       "Dimensions:  (lat: 41, time: 1873)\n",
       "Coordinates:\n",
       "  * lat      (lat) float64 -90.0 -71.81 -64.16 -58.21 ... 58.21 64.16 71.81 90.0\n",
       "  * time     (time) datetime64[ns] 1979-01-01 ... 2018-01-01\n",
       "Data variables:\n",
       "    XCO2     (time, lat) float64 334.6 334.6 334.6 334.6 ... 412.0 412.1 412.1"
      ]
     },
     "execution_count": 30,
     "metadata": {},
     "output_type": "execute_result"
    }
   ],
   "source": [
    "ds_out"
   ]
  },
  {
   "cell_type": "code",
   "execution_count": 31,
   "metadata": {},
   "outputs": [],
   "source": [
    "ds_out_monthly = ds_out.resample(time='1MS').mean()"
   ]
  },
  {
   "cell_type": "code",
   "execution_count": 32,
   "metadata": {},
   "outputs": [
    {
     "data": {
      "text/plain": [
       "<xarray.Dataset>\n",
       "Dimensions:  (lat: 41, time: 469)\n",
       "Coordinates:\n",
       "  * time     (time) datetime64[ns] 1979-01-01 1979-02-01 ... 2018-01-01\n",
       "  * lat      (lat) float64 -90.0 -71.81 -64.16 -58.21 ... 58.21 64.16 71.81 90.0\n",
       "Data variables:\n",
       "    XCO2     (time, lat) float64 334.4 334.5 334.5 334.5 ... 412.0 412.1 412.1"
      ]
     },
     "execution_count": 32,
     "metadata": {},
     "output_type": "execute_result"
    }
   ],
   "source": [
    "ds_out_monthly"
   ]
  },
  {
   "cell_type": "markdown",
   "metadata": {},
   "source": [
    "# Repeat along dimension"
   ]
  },
  {
   "cell_type": "code",
   "execution_count": 33,
   "metadata": {},
   "outputs": [],
   "source": [
    "lon = np.arange(0.5,360,1)\n",
    "ds_lon = xr.DataArray(np.zeros([len(lon)]), coords=[('lon', lon)])\n",
    "ds_data, ds_mask = xr.broadcast(ds_out_monthly, ds_lon)"
   ]
  },
  {
   "cell_type": "code",
   "execution_count": 34,
   "metadata": {},
   "outputs": [],
   "source": [
    "ds_data_interp = ds_data.interp(lat=np.arange(-89.5, 90, 1), method='linear')"
   ]
  },
  {
   "cell_type": "code",
   "execution_count": 35,
   "metadata": {},
   "outputs": [
    {
     "data": {
      "text/plain": [
       "<xarray.Dataset>\n",
       "Dimensions:  (lat: 180, lon: 360, time: 469)\n",
       "Coordinates:\n",
       "  * time     (time) datetime64[ns] 1979-01-01 1979-02-01 ... 2018-01-01\n",
       "  * lon      (lon) float64 0.5 1.5 2.5 3.5 4.5 ... 355.5 356.5 357.5 358.5 359.5\n",
       "  * lat      (lat) float64 -89.5 -88.5 -87.5 -86.5 -85.5 ... 86.5 87.5 88.5 89.5\n",
       "Data variables:\n",
       "    XCO2     (lat, time, lon) float64 334.4 334.4 334.4 ... 412.1 412.1 412.1"
      ]
     },
     "execution_count": 35,
     "metadata": {},
     "output_type": "execute_result"
    }
   ],
   "source": [
    "ds_data_interp"
   ]
  },
  {
   "cell_type": "code",
   "execution_count": 36,
   "metadata": {},
   "outputs": [
    {
     "data": {
      "text/plain": [
       "(469,)"
      ]
     },
     "execution_count": 36,
     "metadata": {},
     "output_type": "execute_result"
    }
   ],
   "source": [
    "dates = pd.date_range(start='1979-01-01T00:00:00.000000000', \n",
    "                      end='2018-01-01T00:00:00.000000000',freq='MS')+ np.timedelta64(14, 'D')\n",
    "da_dates = xr.DataArray(dates, dims='time')\n",
    "np.shape(da_dates)"
   ]
  },
  {
   "cell_type": "code",
   "execution_count": 37,
   "metadata": {},
   "outputs": [],
   "source": [
    "ds_data_interp['time'] = da_dates"
   ]
  },
  {
   "cell_type": "code",
   "execution_count": 38,
   "metadata": {},
   "outputs": [
    {
     "data": {
      "text/plain": [
       "<xarray.Dataset>\n",
       "Dimensions:  (lat: 180, lon: 360, time: 469)\n",
       "Coordinates:\n",
       "  * time     (time) datetime64[ns] 1979-01-15 1979-02-15 ... 2018-01-15\n",
       "  * lon      (lon) float64 0.5 1.5 2.5 3.5 4.5 ... 355.5 356.5 357.5 358.5 359.5\n",
       "  * lat      (lat) float64 -89.5 -88.5 -87.5 -86.5 -85.5 ... 86.5 87.5 88.5 89.5\n",
       "Data variables:\n",
       "    XCO2     (lat, time, lon) float64 334.4 334.4 334.4 ... 412.1 412.1 412.1"
      ]
     },
     "execution_count": 38,
     "metadata": {},
     "output_type": "execute_result"
    }
   ],
   "source": [
    "ds_data_interp"
   ]
  },
  {
   "cell_type": "code",
   "execution_count": 39,
   "metadata": {},
   "outputs": [],
   "source": [
    "ds_data_interp.transpose('time', 'lat', 'lon').to_netcdf(f'{dir_obs}/GLOBALVIEW_XCO2_1x1_197901-201801.nc')"
   ]
  },
  {
   "cell_type": "markdown",
   "metadata": {},
   "source": [
    "# masking XCO2"
   ]
  },
  {
   "cell_type": "code",
   "execution_count": 211,
   "metadata": {},
   "outputs": [],
   "source": [
    "ds = xr.open_dataset('/local/data/artemis/workspace/gloege/LDEO-FFN/data/hindcast/originals/CESM-hindcast_XCO2_1x1_198201-201512_unmasked.nc')"
   ]
  },
  {
   "cell_type": "code",
   "execution_count": 212,
   "metadata": {},
   "outputs": [
    {
     "data": {
      "text/plain": [
       "<matplotlib.collections.PolyCollection at 0x7f1b8b789438>"
      ]
     },
     "execution_count": 212,
     "metadata": {},
     "output_type": "execute_result"
    },
    {
     "data": {
      "image/png": "[encoded data removed]",
      "text/plain": [
       "<Figure size 432x288 with 1 Axes>"
      ]
     },
     "metadata": {
      "needs_background": "light"
     },
     "output_type": "display_data"
    }
   ],
   "source": [
    "plt.pcolor(ds['XCO2'][0,:,:])"
   ]
  },
  {
   "cell_type": "code",
   "execution_count": 179,
   "metadata": {},
   "outputs": [
    {
     "data": {
      "text/plain": [
       "<xarray.Dataset>\n",
       "Dimensions:  (lat: 180, lon: 360, time: 408)\n",
       "Coordinates:\n",
       "    TLAT     float64 ...\n",
       "    TLONG    float64 ...\n",
       "  * time     (time) datetime64[ns] 1982-01-15 1982-02-15 ... 2015-12-15\n",
       "  * lat      (lat) float64 -89.5 -88.5 -87.5 -86.5 -85.5 ... 86.5 87.5 88.5 89.5\n",
       "  * lon      (lon) float64 0.5 1.5 2.5 3.5 4.5 ... 355.5 356.5 357.5 358.5 359.5\n",
       "Data variables:\n",
       "    XCO2     (time, lat, lon) float32 ...\n",
       "Attributes:\n",
       "    CDI:                       Climate Data Interface version 1.9.5 (http://m...\n",
       "    history:                   Tue Mar 19 14:17:50 2019: cdo settunits,days C...\n",
       "    source:                    CCSM POP2, the CCSM Ocean Component\n",
       "    Conventions:               CF-1.0; http://www.cgd.ucar.edu/cms/eaton/netc...\n",
       "    nsteps_total:              2263750\n",
       "    tavg_sum:                  2678400.0\n",
       "    title:                     g.e11_LENS.GECOIAF.T62_g16.009\n",
       "    start_time:                This dataset was created on 2015-07-15 at 00:5...\n",
       "    cell_methods:              cell_methods = time: mean ==> the variable val...\n",
       "    calendar:                  All years have exactly  365 days.\n",
       "    tavg_sum_qflux:            2678400.0\n",
       "    contents:                  Diagnostic and Prognostic Variables\n",
       "    revision:                  $Id: tavg.F90 41939 2012-11-14 16:37:23Z mlevy...\n",
       "    NCO:                       netCDF Operators version 4.7.4 (http://nco.sf....\n",
       "    nco_openmp_thread_number:  1\n",
       "    CDO:                       Climate Data Operators version 1.9.5 (http://m..."
      ]
     },
     "execution_count": 179,
     "metadata": {},
     "output_type": "execute_result"
    }
   ],
   "source": [
    "ds"
   ]
  },
  {
   "cell_type": "code",
   "execution_count": 180,
   "metadata": {},
   "outputs": [
    {
     "data": {
      "text/plain": [
       "<xarray.DataArray 'XCO2' (time: 408, lat: 180, lon: 360)>\n",
       "[26438400 values with dtype=float32]\n",
       "Coordinates:\n",
       "    TLAT     float64 ...\n",
       "    TLONG    float64 ...\n",
       "  * time     (time) datetime64[ns] 1982-01-15 1982-02-15 ... 2015-12-15\n",
       "  * lat      (lat) float64 -89.5 -88.5 -87.5 -86.5 -85.5 ... 86.5 87.5 88.5 89.5\n",
       "  * lon      (lon) float64 0.5 1.5 2.5 3.5 4.5 ... 355.5 356.5 357.5 358.5 359.5\n",
       "Attributes:\n",
       "    long_name:     Atmospheric CO2\n",
       "    units:         ppmv\n",
       "    grid_loc:      2110\n",
       "    cell_methods:  time: mean nlat, nlon: mean"
      ]
     },
     "execution_count": 180,
     "metadata": {},
     "output_type": "execute_result"
    }
   ],
   "source": [
    "ds['XCO2']"
   ]
  },
  {
   "cell_type": "code",
   "execution_count": 213,
   "metadata": {},
   "outputs": [],
   "source": [
    "### ================================================\n",
    "### SOM-FFN mask\n",
    "### mask created using _create_SOMFFN_mask.ipynb\n",
    "### ================================================\n",
    "fl_mask = '/local/data/artemis/workspace/gloege/SOCAT-LE/data/clean/mask_somffn.nc'\n",
    "ds_mask = xr.open_dataset(fl_mask)\n"
   ]
  },
  {
   "cell_type": "code",
   "execution_count": 214,
   "metadata": {},
   "outputs": [],
   "source": [
    "ds['XCO2'] = ds['XCO2'].where(ds_mask['mask']==1)"
   ]
  },
  {
   "cell_type": "code",
   "execution_count": 215,
   "metadata": {},
   "outputs": [
    {
     "data": {
      "text/plain": [
       "<matplotlib.collections.PolyCollection at 0x7f1b891a3da0>"
      ]
     },
     "execution_count": 215,
     "metadata": {},
     "output_type": "execute_result"
    },
    {
     "data": {
      "image/png": "[encoded data removed]",
      "text/plain": [
       "<Figure size 432x288 with 1 Axes>"
      ]
     },
     "metadata": {
      "needs_background": "light"
     },
     "output_type": "display_data"
    }
   ],
   "source": [
    "plt.pcolor(ds['XCO2'][0,:,:])"
   ]
  },
  {
   "cell_type": "code",
   "execution_count": 216,
   "metadata": {},
   "outputs": [],
   "source": [
    "ds.to_netcdf('/local/data/artemis/workspace/gloege/LDEO-FFN/data/hindcast/CESM-hindcast_XCO2_1x1_198201-201512.nc')"
   ]
  },
  {
   "cell_type": "code",
   "execution_count": 190,
   "metadata": {},
   "outputs": [],
   "source": [
    "ds_filled = ds.fillna(0)"
   ]
  },
  {
   "cell_type": "code",
   "execution_count": 191,
   "metadata": {},
   "outputs": [
    {
     "data": {
      "text/plain": [
       "<matplotlib.collections.PolyCollection at 0x7f1b94a6a9b0>"
      ]
     },
     "execution_count": 191,
     "metadata": {},
     "output_type": "execute_result"
    },
    {
     "data": {
      "image/png": "[encoded data removed]",
      "text/plain": [
       "<Figure size 432x288 with 1 Axes>"
      ]
     },
     "metadata": {
      "needs_background": "light"
     },
     "output_type": "display_data"
    }
   ],
   "source": [
    "plt.pcolor(ds_filled['XCO2'][0,:,:])"
   ]
  },
  {
   "cell_type": "code",
   "execution_count": 192,
   "metadata": {},
   "outputs": [],
   "source": [
    "ds_filled.to_netcdf('/local/data/artemis/workspace/gloege/LDEO-FFN/data/hindcast/CESM-hindcast_XCO2_1x1_198201-201512.nc')"
   ]
  },
  {
   "cell_type": "code",
   "execution_count": null,
   "metadata": {},
   "outputs": [],
   "source": [
    "dates = pd.date_range(start='1970-01-01T00:00:00.000000000', \n",
    "                      end='2017-12-01T00:00:00.000000000',freq='MS')+ np.timedelta64(14, 'D')\n",
    "da_dates = xr.DataArray(dates, dims='time')\n",
    "np.shape(da_dates)"
   ]
  }
 ],
 "metadata": {
  "kernelspec": {
   "display_name": "tensorflow",
   "language": "python",
   "name": "tensorflow"
  },
  "language_info": {
   "codemirror_mode": {
    "name": "ipython",
    "version": 3
   },
   "file_extension": ".py",
   "mimetype": "text/x-python",
   "name": "python",
   "nbconvert_exporter": "python",
   "pygments_lexer": "ipython3",
   "version": "3.6.7"
  }
 },
 "nbformat": 4,
 "nbformat_minor": 2
}
