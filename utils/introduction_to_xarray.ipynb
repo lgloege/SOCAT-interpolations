{
 "cells": [
  {
   "cell_type": "markdown",
   "metadata": {},
   "source": [
    "## Introduction to xarray\n",
    "_analyzing data in NetCDF format with xarray_"
   ]
  },
  {
   "cell_type": "code",
   "execution_count": 1,
   "metadata": {},
   "outputs": [],
   "source": [
    "import numpy as np\n",
    "import xarray as xr\n",
    "import pandas as pd\n",
    "import matplotlib.pyplot as plt"
   ]
  },
  {
   "cell_type": "markdown",
   "metadata": {},
   "source": [
    "### Download the data"
   ]
  },
  {
   "cell_type": "code",
   "execution_count": 2,
   "metadata": {},
   "outputs": [
    {
     "name": "stdout",
     "output_type": "stream",
     "text": [
      "--2019-09-30 12:05:18--  https://ndownloader.figshare.com/files/17846429?private_link=97fe76d986848c93a5d0\n",
      "Resolving ndownloader.figshare.com (ndownloader.figshare.com)... 3.248.145.50, 34.250.0.169, 34.255.133.214, ...\n",
      "Connecting to ndownloader.figshare.com (ndownloader.figshare.com)|3.248.145.50|:443... connected.\n",
      "HTTP request sent, awaiting response... 200 OK\n",
      "Length: 118306093 (113M) [application/gzip]\n",
      "Saving to: ‘datasets_1x1_mon_199801-201712.tar.gz’\n",
      "\n",
      "100%[======================================>] 118,306,093 14.5MB/s   in 8.5s   \n",
      "\n",
      "2019-09-30 12:05:27 (13.2 MB/s) - ‘datasets_1x1_mon_199801-201712.tar.gz’ saved [118306093/118306093]\n",
      "\n"
     ]
    }
   ],
   "source": [
    "# Download the tar.gz file with wget\n",
    "\n",
    "# defines the url for the data on figshare\n",
    "DOWNLOAD_URL = 'https://ndownloader.figshare.com/files/17846429?private_link=97fe76d986848c93a5d0'\n",
    "\n",
    "# defines what you want to call the output file\n",
    "# the default name is cryptic, I suggest specifying something\n",
    "OUTPUT_ZIP = 'datasets_1x1_mon_199801-201712.tar.gz'\n",
    "    \n",
    "# this runs wget from jupyter\n",
    "# the output file will be in your local directory\n",
    "!wget $DOWNLOAD_URL -O $OUTPUT_ZIP"
   ]
  },
  {
   "cell_type": "markdown",
   "metadata": {},
   "source": [
    "### untar the data\n",
    "- -z : tells tar this is a `.tar.gz` file\n",
    "- -t : list the contents of the file\n",
    "- -x : extract files from an archive\n",
    "- -v : operate verbose\n",
    "- -f : use the archive file listed afterwards"
   ]
  },
  {
   "cell_type": "code",
   "execution_count": 3,
   "metadata": {},
   "outputs": [
    {
     "name": "stdout",
     "output_type": "stream",
     "text": [
      "./chl_1x1_mon_globColour_199801-201712.nc\n",
      "./mld_1x1_clim_deBoyer_199801-201712.nc\n",
      "./spco2_1x1_mon_SOCATv2019_199801-201712.nc\n",
      "./sss_1x1_mon_EN421_199801-201712.nc\n",
      "./sst_1x1_mon_NOAAOIv2_199801-201712.nc\n",
      "./xco2_1x1_mon_globalview_199801-201712.nc\n"
     ]
    }
   ],
   "source": [
    "# shows the contents of the tar.gz\n",
    "!tar -tf ./datasets_1x1_mon_199801-201712.tar.gz"
   ]
  },
  {
   "cell_type": "code",
   "execution_count": 4,
   "metadata": {},
   "outputs": [
    {
     "name": "stdout",
     "output_type": "stream",
     "text": [
      "./chl_1x1_mon_globColour_199801-201712.nc\n",
      "./mld_1x1_clim_deBoyer_199801-201712.nc\n",
      "./spco2_1x1_mon_SOCATv2019_199801-201712.nc\n",
      "./sss_1x1_mon_EN421_199801-201712.nc\n",
      "./sst_1x1_mon_NOAAOIv2_199801-201712.nc\n",
      "./xco2_1x1_mon_globalview_199801-201712.nc\n"
     ]
    }
   ],
   "source": [
    "# extracts all the contents of the file \n",
    "!tar -zxvf datasets_1x1_mon_199801-201712.tar.gz"
   ]
  },
  {
   "cell_type": "markdown",
   "metadata": {},
   "source": [
    "# Open a single dataset\n",
    "It is common practice to name xarray datasets `ds`, just like it is common practice to name pandas dataframe `df`\n",
    "\n",
    "The only variable in this dataset is `spco2`. This is the partial pressure of CO2 in the surface of the ocean. It has three coordinates\n",
    "- time\n",
    "- lat\n",
    "- lon\n",
    "\n",
    "The beauty of netcdf and xarray is that it is \"aware\" of these dimensions. In a moment I will show the utility of this. Xarray is built on pandas, so the syntax will be very similar. "
   ]
  },
  {
   "cell_type": "code",
   "execution_count": 5,
   "metadata": {},
   "outputs": [],
   "source": [
    "# this opens the dataset\n",
    "ds = xr.open_dataset('./spco2_1x1_mon_SOCATv2019_199801-201712.nc')"
   ]
  },
  {
   "cell_type": "code",
   "execution_count": 6,
   "metadata": {},
   "outputs": [
    {
     "data": {
      "text/plain": [
       "<xarray.Dataset>\n",
       "Dimensions:  (lat: 180, lon: 360, time: 240)\n",
       "Coordinates:\n",
       "  * lat      (lat) float64 -89.5 -88.5 -87.5 -86.5 -85.5 ... 86.5 87.5 88.5 89.5\n",
       "  * lon      (lon) float64 0.5 1.5 2.5 3.5 4.5 ... 355.5 356.5 357.5 358.5 359.5\n",
       "  * time     (time) datetime64[ns] 1998-01-15 1998-02-15 ... 2017-12-15\n",
       "Data variables:\n",
       "    spco2    (time, lat, lon) float32 ...\n",
       "Attributes:\n",
       "    contact:        Luke Gloege (gloege@ldeo.columbia.edu)\n",
       "    creation_date:  21 September 2019\n",
       "    notes:          original data, trimmed 1998-2017\n",
       "    original_data:  https://www.socat.info/"
      ]
     },
     "execution_count": 6,
     "metadata": {},
     "output_type": "execute_result"
    }
   ],
   "source": [
    "# this lists basic information about the dataset. \n",
    "# coordinates, variables names, and some attributes about the file\n",
    "ds"
   ]
  },
  {
   "cell_type": "code",
   "execution_count": 7,
   "metadata": {},
   "outputs": [
    {
     "name": "stdout",
     "output_type": "stream",
     "text": [
      "xarray.Dataset {\n",
      "dimensions:\n",
      "\tlat = 180 ;\n",
      "\tlon = 360 ;\n",
      "\ttime = 240 ;\n",
      "\n",
      "variables:\n",
      "\tfloat32 spco2(time, lat, lon) ;\n",
      "\t\tspco2:long_name = Arithmetic mean of all fco2 recomputed values found in the grid cell. ;\n",
      "\t\tspco2:units = uatm ;\n",
      "\tfloat64 lat(lat) ;\n",
      "\t\tlat:units = degrees_north ;\n",
      "\tfloat64 lon(lon) ;\n",
      "\t\tlon:units = degrees_east ;\n",
      "\tdatetime64[ns] time(time) ;\n",
      "\n",
      "// global attributes:\n",
      "\t:contact = Luke Gloege (gloege@ldeo.columbia.edu) ;\n",
      "\t:creation_date = 21 September 2019 ;\n",
      "\t:notes = original data, trimmed 1998-2017 ;\n",
      "\t:original_data = https://www.socat.info/ ;\n",
      "}"
     ]
    }
   ],
   "source": [
    "# This lists more details\n",
    "# units and maybe other information about the variable and coordinates\n",
    "ds.info()"
   ]
  },
  {
   "cell_type": "markdown",
   "metadata": {},
   "source": [
    "# Merge multiple files\n",
    "This will take all the netcdf files and merge them into a single dataset"
   ]
  },
  {
   "cell_type": "code",
   "execution_count": 8,
   "metadata": {},
   "outputs": [],
   "source": [
    "# this just deletes the old ds\n",
    "del ds"
   ]
  },
  {
   "cell_type": "code",
   "execution_count": 9,
   "metadata": {},
   "outputs": [],
   "source": [
    "# Data directory\n",
    "# This is location where all the data files live\n",
    "dir_data='/home/gloege/figshare'\n",
    "\n",
    "# Observations dictionary\n",
    "# I like to store data paths in a dict like this\n",
    "dict_data = {'spco2': f'{dir_data}/spco2_1x1_mon_SOCATv2019_199801-201712.nc', \n",
    "             'sst': f'{dir_data}/sst_1x1_mon_NOAAOIv2_199801-201712.nc',\n",
    "             'sss': f'{dir_data}/sss_1x1_mon_EN421_199801-201712.nc',\n",
    "             'chl': f'{dir_data}/chl_1x1_mon_globColour_199801-201712.nc',\n",
    "             'mld': f'{dir_data}/mld_1x1_clim_deBoyer_199801-201712.nc',\n",
    "             'xco2': f'{dir_data}/xco2_1x1_mon_globalview_199801-201712.nc'}\n",
    "\n",
    "#  Load all variables into common dataset\n",
    "ds = xr.merge([xr.open_dataset(dict_data['sst']),\n",
    "               xr.open_dataset(dict_data['sss']),\n",
    "               xr.open_dataset(dict_data['chl']),\n",
    "               xr.open_dataset(dict_data['mld']),\n",
    "               xr.open_dataset(dict_data['xco2']),\n",
    "               xr.open_dataset(dict_data['spco2'])])"
   ]
  },
  {
   "cell_type": "code",
   "execution_count": 11,
   "metadata": {},
   "outputs": [
    {
     "name": "stdout",
     "output_type": "stream",
     "text": [
      "xarray.Dataset {\n",
      "dimensions:\n",
      "\tlat = 180 ;\n",
      "\tlon = 360 ;\n",
      "\ttime = 240 ;\n",
      "\n",
      "variables:\n",
      "\tfloat32 sst(time, lat, lon) ;\n",
      "\t\tsst:long_name = sea surface temperature ;\n",
      "\t\tsst:units = degC ;\n",
      "\tfloat32 lat(lat) ;\n",
      "\t\tlat:units = degrees_north ;\n",
      "\tfloat32 lon(lon) ;\n",
      "\t\tlon:units = degrees_east ;\n",
      "\tdatetime64[ns] time(time) ;\n",
      "\tfloat32 sss(time, lat, lon) ;\n",
      "\t\tsss:long_name = sea surface salinity ;\n",
      "\t\tsss:units = psu ;\n",
      "\tfloat32 chl(time, lat, lon) ;\n",
      "\t\tchl:long_name = satellite-retrieved chlorophyll concentration ;\n",
      "\t\tchl:units = mg/m3 ;\n",
      "\tfloat32 mld(time, lat, lon) ;\n",
      "\t\tmld:long_name = mixed layer depth ;\n",
      "\t\tmld:units = meters ;\n",
      "\t\tmld:fill_value = 0 ;\n",
      "\t\tmld:description = repeating climatology. MLD with fixed temp. threshold criterion (0.2°C) ;\n",
      "\tfloat64 xco2(time, lat, lon) ;\n",
      "\t\txco2:long_name = mixing ratio of atmospheric CO2 ;\n",
      "\t\txco2:units = ppmv ;\n",
      "\t\txco2:notes = monthly averages from weekly data ;\n",
      "\tfloat32 spco2(time, lat, lon) ;\n",
      "\t\tspco2:long_name = Arithmetic mean of all fco2 recomputed values found in the grid cell. ;\n",
      "\t\tspco2:units = uatm ;\n",
      "\n",
      "// global attributes:\n",
      "}"
     ]
    }
   ],
   "source": [
    "ds.info()"
   ]
  },
  {
   "cell_type": "markdown",
   "metadata": {},
   "source": [
    "### Get a variable and plot it"
   ]
  },
  {
   "cell_type": "code",
   "execution_count": 13,
   "metadata": {},
   "outputs": [],
   "source": [
    "# This extracts spco2 from the dataset and puts it into a dataarray\n",
    "spco2 = ds['spco2']"
   ]
  },
  {
   "cell_type": "code",
   "execution_count": 18,
   "metadata": {},
   "outputs": [
    {
     "name": "stdout",
     "output_type": "stream",
     "text": [
      "Data type : <class 'xarray.core.dataarray.DataArray'>\n",
      "Shape of the data : (240, 180, 360)\n"
     ]
    }
   ],
   "source": [
    "print(f'Data type : {type(spco2)}')\n",
    "print(f'Shape of the data : {spco2.shape}')"
   ]
  },
  {
   "cell_type": "code",
   "execution_count": 21,
   "metadata": {},
   "outputs": [
    {
     "data": {
      "text/plain": [
       "<matplotlib.colorbar.Colorbar at 0x7fdb24a1d550>"
      ]
     },
     "execution_count": 21,
     "metadata": {},
     "output_type": "execute_result"
    },
    {
     "data": {
      "image/png": "[encoded data removed]",
      "text/plain": [
       "<Figure size 432x288 with 2 Axes>"
      ]
     },
     "metadata": {
      "needs_background": "light"
     },
     "output_type": "display_data"
    }
   ],
   "source": [
    "# Xarray is aware of dimensions.\n",
    "# we can do a mean over time like this\n",
    "spco2_mean = spco2.mean('time')\n",
    "\n",
    "# and plot it\n",
    "plt.pcolor(spco2_mean['lon'], spco2_mean['lat'], spco2_mean, vmin=280, vmax=440)\n",
    "plt.colorbar()"
   ]
  },
  {
   "cell_type": "markdown",
   "metadata": {},
   "source": [
    "# converting to numpy"
   ]
  },
  {
   "cell_type": "code",
   "execution_count": 26,
   "metadata": {},
   "outputs": [],
   "source": [
    "np_spco2 = spco2.values"
   ]
  },
  {
   "cell_type": "code",
   "execution_count": 27,
   "metadata": {},
   "outputs": [
    {
     "name": "stdout",
     "output_type": "stream",
     "text": [
      "Data type : <class 'numpy.ndarray'>\n",
      "Shape of the data : (240, 180, 360)\n"
     ]
    }
   ],
   "source": [
    "print(f'Data type : {type(np_spco2)}')\n",
    "print(f'Shape of the data : {np_spco2.shape}')"
   ]
  },
  {
   "cell_type": "markdown",
   "metadata": {},
   "source": [
    "# converting to pandas"
   ]
  },
  {
   "cell_type": "code",
   "execution_count": 28,
   "metadata": {},
   "outputs": [],
   "source": [
    "df_spco2 = spco2.to_dataframe()"
   ]
  },
  {
   "cell_type": "code",
   "execution_count": 29,
   "metadata": {},
   "outputs": [
    {
     "name": "stdout",
     "output_type": "stream",
     "text": [
      "Data type : <class 'pandas.core.frame.DataFrame'>\n",
      "Shape of the data : (15552000, 1)\n"
     ]
    }
   ],
   "source": [
    "print(f'Data type : {type(df_spco2)}')\n",
    "print(f'Shape of the data : {df_spco2.shape}')"
   ]
  },
  {
   "cell_type": "code",
   "execution_count": 32,
   "metadata": {},
   "outputs": [
    {
     "data": {
      "text/html": [
       "<div>\n",
       "<style scoped>\n",
       "    .dataframe tbody tr th:only-of-type {\n",
       "        vertical-align: middle;\n",
       "    }\n",
       "\n",
       "    .dataframe tbody tr th {\n",
       "        vertical-align: top;\n",
       "    }\n",
       "\n",
       "    .dataframe thead th {\n",
       "        text-align: right;\n",
       "    }\n",
       "</style>\n",
       "<table border=\"1\" class=\"dataframe\">\n",
       "  <thead>\n",
       "    <tr style=\"text-align: right;\">\n",
       "      <th></th>\n",
       "      <th>time</th>\n",
       "      <th>lat</th>\n",
       "      <th>lon</th>\n",
       "      <th>spco2</th>\n",
       "    </tr>\n",
       "  </thead>\n",
       "  <tbody>\n",
       "    <tr>\n",
       "      <th>0</th>\n",
       "      <td>1998-01-15</td>\n",
       "      <td>-89.5</td>\n",
       "      <td>0.5</td>\n",
       "      <td>NaN</td>\n",
       "    </tr>\n",
       "    <tr>\n",
       "      <th>1</th>\n",
       "      <td>1998-01-15</td>\n",
       "      <td>-89.5</td>\n",
       "      <td>1.5</td>\n",
       "      <td>NaN</td>\n",
       "    </tr>\n",
       "    <tr>\n",
       "      <th>2</th>\n",
       "      <td>1998-01-15</td>\n",
       "      <td>-89.5</td>\n",
       "      <td>2.5</td>\n",
       "      <td>NaN</td>\n",
       "    </tr>\n",
       "    <tr>\n",
       "      <th>3</th>\n",
       "      <td>1998-01-15</td>\n",
       "      <td>-89.5</td>\n",
       "      <td>3.5</td>\n",
       "      <td>NaN</td>\n",
       "    </tr>\n",
       "    <tr>\n",
       "      <th>4</th>\n",
       "      <td>1998-01-15</td>\n",
       "      <td>-89.5</td>\n",
       "      <td>4.5</td>\n",
       "      <td>NaN</td>\n",
       "    </tr>\n",
       "  </tbody>\n",
       "</table>\n",
       "</div>"
      ],
      "text/plain": [
       "        time   lat  lon  spco2\n",
       "0 1998-01-15 -89.5  0.5    NaN\n",
       "1 1998-01-15 -89.5  1.5    NaN\n",
       "2 1998-01-15 -89.5  2.5    NaN\n",
       "3 1998-01-15 -89.5  3.5    NaN\n",
       "4 1998-01-15 -89.5  4.5    NaN"
      ]
     },
     "execution_count": 32,
     "metadata": {},
     "output_type": "execute_result"
    }
   ],
   "source": [
    "# display dataframe\n",
    "df_spco2.reset_index().head()"
   ]
  },
  {
   "cell_type": "markdown",
   "metadata": {},
   "source": [
    "### All the data in pandas dataframe"
   ]
  },
  {
   "cell_type": "code",
   "execution_count": 33,
   "metadata": {},
   "outputs": [],
   "source": [
    "df_data = ds.to_dataframe()"
   ]
  },
  {
   "cell_type": "code",
   "execution_count": 34,
   "metadata": {},
   "outputs": [
    {
     "data": {
      "text/html": [
       "<div>\n",
       "<style scoped>\n",
       "    .dataframe tbody tr th:only-of-type {\n",
       "        vertical-align: middle;\n",
       "    }\n",
       "\n",
       "    .dataframe tbody tr th {\n",
       "        vertical-align: top;\n",
       "    }\n",
       "\n",
       "    .dataframe thead th {\n",
       "        text-align: right;\n",
       "    }\n",
       "</style>\n",
       "<table border=\"1\" class=\"dataframe\">\n",
       "  <thead>\n",
       "    <tr style=\"text-align: right;\">\n",
       "      <th></th>\n",
       "      <th>lat</th>\n",
       "      <th>lon</th>\n",
       "      <th>time</th>\n",
       "      <th>sst</th>\n",
       "      <th>sss</th>\n",
       "      <th>chl</th>\n",
       "      <th>mld</th>\n",
       "      <th>xco2</th>\n",
       "      <th>spco2</th>\n",
       "    </tr>\n",
       "  </thead>\n",
       "  <tbody>\n",
       "    <tr>\n",
       "      <th>0</th>\n",
       "      <td>-89.5</td>\n",
       "      <td>0.5</td>\n",
       "      <td>1998-01-15</td>\n",
       "      <td>NaN</td>\n",
       "      <td>NaN</td>\n",
       "      <td>NaN</td>\n",
       "      <td>NaN</td>\n",
       "      <td>NaN</td>\n",
       "      <td>NaN</td>\n",
       "    </tr>\n",
       "    <tr>\n",
       "      <th>1</th>\n",
       "      <td>-89.5</td>\n",
       "      <td>0.5</td>\n",
       "      <td>1998-02-15</td>\n",
       "      <td>NaN</td>\n",
       "      <td>NaN</td>\n",
       "      <td>NaN</td>\n",
       "      <td>NaN</td>\n",
       "      <td>NaN</td>\n",
       "      <td>NaN</td>\n",
       "    </tr>\n",
       "    <tr>\n",
       "      <th>2</th>\n",
       "      <td>-89.5</td>\n",
       "      <td>0.5</td>\n",
       "      <td>1998-03-15</td>\n",
       "      <td>NaN</td>\n",
       "      <td>NaN</td>\n",
       "      <td>NaN</td>\n",
       "      <td>NaN</td>\n",
       "      <td>NaN</td>\n",
       "      <td>NaN</td>\n",
       "    </tr>\n",
       "    <tr>\n",
       "      <th>3</th>\n",
       "      <td>-89.5</td>\n",
       "      <td>0.5</td>\n",
       "      <td>1998-04-15</td>\n",
       "      <td>NaN</td>\n",
       "      <td>NaN</td>\n",
       "      <td>NaN</td>\n",
       "      <td>NaN</td>\n",
       "      <td>NaN</td>\n",
       "      <td>NaN</td>\n",
       "    </tr>\n",
       "    <tr>\n",
       "      <th>4</th>\n",
       "      <td>-89.5</td>\n",
       "      <td>0.5</td>\n",
       "      <td>1998-05-15</td>\n",
       "      <td>NaN</td>\n",
       "      <td>NaN</td>\n",
       "      <td>NaN</td>\n",
       "      <td>NaN</td>\n",
       "      <td>NaN</td>\n",
       "      <td>NaN</td>\n",
       "    </tr>\n",
       "  </tbody>\n",
       "</table>\n",
       "</div>"
      ],
      "text/plain": [
       "    lat  lon       time  sst  sss  chl  mld  xco2  spco2\n",
       "0 -89.5  0.5 1998-01-15  NaN  NaN  NaN  NaN   NaN    NaN\n",
       "1 -89.5  0.5 1998-02-15  NaN  NaN  NaN  NaN   NaN    NaN\n",
       "2 -89.5  0.5 1998-03-15  NaN  NaN  NaN  NaN   NaN    NaN\n",
       "3 -89.5  0.5 1998-04-15  NaN  NaN  NaN  NaN   NaN    NaN\n",
       "4 -89.5  0.5 1998-05-15  NaN  NaN  NaN  NaN   NaN    NaN"
      ]
     },
     "execution_count": 34,
     "metadata": {},
     "output_type": "execute_result"
    }
   ],
   "source": [
    "df_data.reset_index().head()"
   ]
  },
  {
   "cell_type": "code",
   "execution_count": null,
   "metadata": {},
   "outputs": [],
   "source": []
  }
 ],
 "metadata": {
  "kernelspec": {
   "display_name": "tensorflow",
   "language": "python",
   "name": "tensorflow"
  },
  "language_info": {
   "codemirror_mode": {
    "name": "ipython",
    "version": 3
   },
   "file_extension": ".py",
   "mimetype": "text/x-python",
   "name": "python",
   "nbconvert_exporter": "python",
   "pygments_lexer": "ipython3",
   "version": "3.6.7"
  }
 },
 "nbformat": 4,
 "nbformat_minor": 2
}
