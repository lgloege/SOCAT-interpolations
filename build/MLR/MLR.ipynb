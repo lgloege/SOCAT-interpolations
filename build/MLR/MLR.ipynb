{
 "cells": [
  {
   "cell_type": "markdown",
   "metadata": {},
   "source": [
    "# MLR - Multi-Linear Regression model\n",
    "- **target**: spco2\n",
    "- **features**: [sst, sss, chl, mld, xco2]\n"
   ]
  },
  {
   "cell_type": "code",
   "execution_count": 1,
   "metadata": {},
   "outputs": [],
   "source": [
    "import os\n",
    "import numpy as np\n",
    "import pandas as pd\n",
    "import xarray as xr\n",
    "#import seaborn as sns\n",
    "import matplotlib.pyplot as plt\n",
    "\n",
    "from sklearn.metrics import mean_squared_error\n",
    "from sklearn.linear_model import LinearRegression\n",
    "from sklearn.preprocessing import StandardScaler\n",
    "from sklearn.model_selection import train_test_split\n",
    "\n",
    "pd.set_option(\"display.max_columns\", 100)"
   ]
  },
  {
   "cell_type": "markdown",
   "metadata": {},
   "source": [
    "## Define useful functions"
   ]
  },
  {
   "cell_type": "code",
   "execution_count": 2,
   "metadata": {},
   "outputs": [],
   "source": [
    "import xarray as xr\n",
    "from skimage.filters import sobel\n",
    "\n",
    "def network_mask():\n",
    "    '''network_mask\n",
    "    This masks out regions in the \n",
    "    NCEP land-sea mask (https://www.esrl.noaa.gov/psd/data/gridded/data.ncep.reanalysis.surface.html)\n",
    "    to define the open ocean. Regions removed include:\n",
    "    - Coast : defined by sobel filter\n",
    "    - Batymetry less than 100m\n",
    "    - Arctic ocean : defined as North of 79N\n",
    "    - Hudson Bay\n",
    "    - caspian sea, black sea, mediterranean sea, baltic sea, Java sea, Red sea\n",
    "    '''\n",
    "    ### Load obs directory\n",
    "    dir_obs = '/local/data/artemis/observations'\n",
    "    \n",
    "    ### topography\n",
    "    ds_topo = xr.open_dataset(f'{dir_obs}/GEBCO_2014/processed/GEBCO_2014_1x1_global.nc')\n",
    "    ds_topo = ds_topo.roll(lon=180, roll_coords='lon')\n",
    "    ds_topo['lon'] = np.arange(0.5, 360, 1)\n",
    "\n",
    "    ### Loads grids\n",
    "    # land-sea mask\n",
    "    # land=0, sea=1\n",
    "    ds_lsmask = xr.open_dataset(f'{dir_obs}/masks/originals/lsmask.nc').sortby('lat').squeeze().drop('time')\n",
    "    data = ds_lsmask['mask'].where(ds_lsmask['mask']==1)\n",
    "    ### Define Latitude and Longitude\n",
    "    lon = ds_lsmask['lon']\n",
    "    lat = ds_lsmask['lat']\n",
    "    \n",
    "    ### Remove coastal points, defined by sobel edge detection\n",
    "    coast = (sobel(ds_lsmask['mask'])>0)\n",
    "    data = data.where(coast==0)\n",
    "    \n",
    "    ### Remove shallow sea, less than 100m\n",
    "    ### This picks out the Solomon islands and Somoa\n",
    "    data = data.where(ds_topo['Height']<-100)\n",
    "    \n",
    "    ### remove arctic\n",
    "    data = data.where(~((lat>79)))\n",
    "    data = data.where(~((lat>67) & (lat<80) & (lon>20) & (lon<180)))\n",
    "    data = data.where(~((lat>67) & (lat<80) & (lon>-180+360) & (lon<-100+360)))\n",
    "\n",
    "    ### remove caspian sea, black sea, mediterranean sea, and baltic sea\n",
    "    data = data.where(~((lat>24) & (lat<70) & (lon>14) & (lon<70)))\n",
    "    \n",
    "    ### remove hudson bay\n",
    "    data = data.where(~((lat>50) & (lat<70) & (lon>-100+360) & (lon<-70+360)))\n",
    "    data = data.where(~((lat>70) & (lat<80) & (lon>-130+360) & (lon<-80+360)))\n",
    "    \n",
    "    ### Remove Red sea\n",
    "    data = data.where(~((lat>10) & (lat<25) & (lon>10) & (lon<45)))\n",
    "    data = data.where(~((lat>20) & (lat<50) & (lon>0) & (lon<20)))\n",
    "    \n",
    "    return data"
   ]
  },
  {
   "cell_type": "markdown",
   "metadata": {},
   "source": [
    "## Load data"
   ]
  },
  {
   "cell_type": "code",
   "execution_count": 3,
   "metadata": {},
   "outputs": [],
   "source": [
    "# Data directory\n",
    "# This is pre-processed data\n",
    "dir_data='/local/data/artemis/observations/neural_net_data'\n",
    "\n",
    "# Observations dictionary\n",
    "dict_data = {'spco2': f'{dir_data}/spco2_1x1_mon_SOCATv2019_199801-201712.nc', \n",
    "             'sst': f'{dir_data}/sst_1x1_mon_NOAAOIv2_199801-201712.nc',\n",
    "             'sss': f'{dir_data}/sss_1x1_mon_EN421_199801-201712.nc',\n",
    "             'chl': f'{dir_data}/chl_1x1_mon_globColour_199801-201712.nc',\n",
    "             'mld': f'{dir_data}/mld_1x1_clim_deBoyer_199801-201712.nc',\n",
    "             'xco2': f'{dir_data}/xco2_1x1_mon_globalview_199801-201712.nc'}\n",
    "\n",
    "###  Load all variables into common dataset\n",
    "ds = xr.merge([xr.open_dataset(dict_data['sst']),\n",
    "               xr.open_dataset(dict_data['sss']),\n",
    "               xr.open_dataset(dict_data['chl']),\n",
    "               xr.open_dataset(dict_data['mld']),\n",
    "               xr.open_dataset(dict_data['xco2']),\n",
    "               xr.open_dataset(dict_data['spco2'])])"
   ]
  },
  {
   "cell_type": "markdown",
   "metadata": {},
   "source": [
    "## Mask data"
   ]
  },
  {
   "cell_type": "code",
   "execution_count": 4,
   "metadata": {},
   "outputs": [],
   "source": [
    "# Define my network mask\n",
    "mask = network_mask()"
   ]
  },
  {
   "cell_type": "code",
   "execution_count": 5,
   "metadata": {},
   "outputs": [
    {
     "data": {
      "text/plain": [
       "<matplotlib.collections.PolyCollection at 0x7f499ecb4cc0>"
      ]
     },
     "execution_count": 5,
     "metadata": {},
     "output_type": "execute_result"
    },
    {
     "data": {
      "image/png": "[encoded data removed]",
      "text/plain": [
       "<Figure size 432x288 with 1 Axes>"
      ]
     },
     "metadata": {
      "needs_background": "light"
     },
     "output_type": "display_data"
    }
   ],
   "source": [
    "plt.pcolor(mask['lon'], mask['lat'], mask)"
   ]
  },
  {
   "cell_type": "code",
   "execution_count": 6,
   "metadata": {},
   "outputs": [],
   "source": [
    "# Apply mask to dataset\n",
    "ds = ds.where(mask==1)"
   ]
  },
  {
   "cell_type": "markdown",
   "metadata": {},
   "source": [
    "## Put into dataframe"
   ]
  },
  {
   "cell_type": "code",
   "execution_count": 7,
   "metadata": {},
   "outputs": [],
   "source": [
    "### Put data into dataframe \n",
    "df = ds.to_dataframe().reset_index()\n",
    "\n",
    "### select variables and drop nans \n",
    "df.dropna(subset=['lon', 'lat', 'time',\n",
    "                  'sst', 'sss', \n",
    "                  'chl', 'mld', \n",
    "                  'xco2', 'spco2'], inplace=True)"
   ]
  },
  {
   "cell_type": "code",
   "execution_count": 8,
   "metadata": {},
   "outputs": [
    {
     "data": {
      "text/html": [
       "<div>\n",
       "<style scoped>\n",
       "    .dataframe tbody tr th:only-of-type {\n",
       "        vertical-align: middle;\n",
       "    }\n",
       "\n",
       "    .dataframe tbody tr th {\n",
       "        vertical-align: top;\n",
       "    }\n",
       "\n",
       "    .dataframe thead th {\n",
       "        text-align: right;\n",
       "    }\n",
       "</style>\n",
       "<table border=\"1\" class=\"dataframe\">\n",
       "  <thead>\n",
       "    <tr style=\"text-align: right;\">\n",
       "      <th></th>\n",
       "      <th>lat</th>\n",
       "      <th>lon</th>\n",
       "      <th>time</th>\n",
       "      <th>sst</th>\n",
       "      <th>sss</th>\n",
       "      <th>chl</th>\n",
       "      <th>mld</th>\n",
       "      <th>xco2</th>\n",
       "      <th>spco2</th>\n",
       "    </tr>\n",
       "  </thead>\n",
       "  <tbody>\n",
       "    <tr>\n",
       "      <th>1162620</th>\n",
       "      <td>-76.5</td>\n",
       "      <td>164.5</td>\n",
       "      <td>2003-01-15</td>\n",
       "      <td>-0.94</td>\n",
       "      <td>34.160316</td>\n",
       "      <td>0.314534</td>\n",
       "      <td>18.729113</td>\n",
       "      <td>374.796520</td>\n",
       "      <td>278.475037</td>\n",
       "    </tr>\n",
       "    <tr>\n",
       "      <th>1162632</th>\n",
       "      <td>-76.5</td>\n",
       "      <td>164.5</td>\n",
       "      <td>2004-01-15</td>\n",
       "      <td>-0.82</td>\n",
       "      <td>34.143547</td>\n",
       "      <td>0.356009</td>\n",
       "      <td>18.729113</td>\n",
       "      <td>376.998760</td>\n",
       "      <td>213.402817</td>\n",
       "    </tr>\n",
       "    <tr>\n",
       "      <th>1162633</th>\n",
       "      <td>-76.5</td>\n",
       "      <td>164.5</td>\n",
       "      <td>2004-02-15</td>\n",
       "      <td>-0.88</td>\n",
       "      <td>33.959709</td>\n",
       "      <td>0.763949</td>\n",
       "      <td>23.885191</td>\n",
       "      <td>377.540533</td>\n",
       "      <td>199.720215</td>\n",
       "    </tr>\n",
       "    <tr>\n",
       "      <th>1162669</th>\n",
       "      <td>-76.5</td>\n",
       "      <td>164.5</td>\n",
       "      <td>2007-02-15</td>\n",
       "      <td>-0.37</td>\n",
       "      <td>33.936447</td>\n",
       "      <td>0.395035</td>\n",
       "      <td>23.885191</td>\n",
       "      <td>383.332733</td>\n",
       "      <td>190.667770</td>\n",
       "    </tr>\n",
       "    <tr>\n",
       "      <th>1162680</th>\n",
       "      <td>-76.5</td>\n",
       "      <td>164.5</td>\n",
       "      <td>2008-01-15</td>\n",
       "      <td>-0.87</td>\n",
       "      <td>33.994492</td>\n",
       "      <td>0.665366</td>\n",
       "      <td>18.729113</td>\n",
       "      <td>384.997100</td>\n",
       "      <td>201.477844</td>\n",
       "    </tr>\n",
       "  </tbody>\n",
       "</table>\n",
       "</div>"
      ],
      "text/plain": [
       "          lat    lon       time   sst        sss       chl        mld  \\\n",
       "1162620 -76.5  164.5 2003-01-15 -0.94  34.160316  0.314534  18.729113   \n",
       "1162632 -76.5  164.5 2004-01-15 -0.82  34.143547  0.356009  18.729113   \n",
       "1162633 -76.5  164.5 2004-02-15 -0.88  33.959709  0.763949  23.885191   \n",
       "1162669 -76.5  164.5 2007-02-15 -0.37  33.936447  0.395035  23.885191   \n",
       "1162680 -76.5  164.5 2008-01-15 -0.87  33.994492  0.665366  18.729113   \n",
       "\n",
       "               xco2       spco2  \n",
       "1162620  374.796520  278.475037  \n",
       "1162632  376.998760  213.402817  \n",
       "1162633  377.540533  199.720215  \n",
       "1162669  383.332733  190.667770  \n",
       "1162680  384.997100  201.477844  "
      ]
     },
     "execution_count": 8,
     "metadata": {},
     "output_type": "execute_result"
    }
   ],
   "source": [
    "df.head()"
   ]
  },
  {
   "cell_type": "markdown",
   "metadata": {},
   "source": [
    "## Train / validation / test split"
   ]
  },
  {
   "cell_type": "code",
   "execution_count": 9,
   "metadata": {},
   "outputs": [],
   "source": [
    "# Input features\n",
    "features = ['sst', 'sss', 'chl', 'mld', 'xco2']\n",
    "features_plus_coords = ['time', 'lon', 'lat', 'sst', 'sss', 'chl', 'mld', 'xco2']"
   ]
  },
  {
   "cell_type": "code",
   "execution_count": 10,
   "metadata": {},
   "outputs": [
    {
     "name": "stdout",
     "output_type": "stream",
     "text": [
      "(140916, 5) (140916,)\n",
      "(60393, 5) (60393,)\n"
     ]
    }
   ],
   "source": [
    "# Input and Output\n",
    "X = df.loc[:, features] \n",
    "y = df.loc[:,'spco2']\n",
    "\n",
    "# Uses train_test_split build into sklearn.model_selection\n",
    "# By default this method shuffles the data (30% = testing 70%=training/validation)\n",
    "# Train  = 49% - Valid  = 21% - Test   = 30%\n",
    "X_train, X_test, y_train, y_test = train_test_split(X, y, test_size=0.3, random_state= 73)\n",
    "\n",
    "# Select features for training\n",
    "X_train_ready = X_train[features]\n",
    "X_train_ready = X_train_ready.values\n",
    "y_train_ready = y_train.values\n",
    "\n",
    "# Select features for testing\n",
    "X_test_ready = X_test[features]\n",
    "X_test_ready = X_test_ready.values\n",
    "y_test_ready = y_test.values\n",
    "\n",
    "# Print shapes\n",
    "print(X_train.shape, y_train.shape)\n",
    "print(X_test.shape, y_test.shape)"
   ]
  },
  {
   "cell_type": "code",
   "execution_count": 11,
   "metadata": {},
   "outputs": [
    {
     "name": "stdout",
     "output_type": "stream",
     "text": [
      "NaNs in X_train_ready: 0\n",
      "NaNs in y_train_ready: 0\n",
      "NaNs in X_test_ready: 0\n",
      "NaNs in y_test_ready: 0\n"
     ]
    }
   ],
   "source": [
    "### make sure there are no nans anywhere\n",
    "print('NaNs in X_train_ready:', np.isnan(X_train_ready).sum())\n",
    "print('NaNs in y_train_ready:', np.isnan(y_train_ready).sum())\n",
    "\n",
    "#print('NaNs in X_val_ready:', np.isnan(X_val_ready).sum())\n",
    "#print('NaNs in y_val_ready:', np.isnan(y_val_ready).sum())\n",
    "\n",
    "print('NaNs in X_test_ready:', np.isnan(X_test_ready).sum())\n",
    "print('NaNs in y_test_ready:', np.isnan(y_test_ready).sum())"
   ]
  },
  {
   "cell_type": "markdown",
   "metadata": {},
   "source": [
    "# MLR model"
   ]
  },
  {
   "cell_type": "code",
   "execution_count": 12,
   "metadata": {},
   "outputs": [],
   "source": [
    "reg = LinearRegression().fit(X_train_ready, y_train_ready)"
   ]
  },
  {
   "cell_type": "code",
   "execution_count": 13,
   "metadata": {},
   "outputs": [
    {
     "name": "stdout",
     "output_type": "stream",
     "text": [
      "rmse = 32.4433178774988  - R2 = 0.17424438106693008\n"
     ]
    }
   ],
   "source": [
    "# Evaluation scores\n",
    "y_pred = reg.predict(X_test_ready)\n",
    "rmse = mean_squared_error(y_test_ready, y_pred) ** 0.5\n",
    "r2 = reg.score(X_test_ready, y_test_ready)\n",
    "print(f'rmse = {rmse}  - R2 = {r2}')"
   ]
  },
  {
   "cell_type": "code",
   "execution_count": 14,
   "metadata": {},
   "outputs": [
    {
     "data": {
      "text/plain": [
       "[<matplotlib.lines.Line2D at 0x7f499ec93da0>]"
      ]
     },
     "execution_count": 14,
     "metadata": {},
     "output_type": "execute_result"
    },
    {
     "data": {
      "image/png": "[encoded data removed]",
      "text/plain": [
       "<Figure size 432x288 with 1 Axes>"
      ]
     },
     "metadata": {
      "needs_background": "light"
     },
     "output_type": "display_data"
    }
   ],
   "source": [
    "plt.scatter(y_test_ready, y_pred)\n",
    "plt.plot([10, 440],[100, 440],'r')"
   ]
  },
  {
   "cell_type": "markdown",
   "metadata": {},
   "source": [
    "## Put predictions back to make a map"
   ]
  },
  {
   "cell_type": "code",
   "execution_count": 15,
   "metadata": {},
   "outputs": [],
   "source": [
    "# Latitude, longitude vectors\n",
    "lon = ds['lon']\n",
    "lat = ds['lat']\n",
    "time = ds['time']\n",
    "\n",
    "# create a time,lat,lon skeleton\n",
    "skeleton_xr = ds.to_dataframe().reset_index()\n",
    "skeleton_xr = skeleton_xr[['time','lat','lon']]\n",
    "\n",
    "# Make predictions - to final dataframe to be aware of coords\n",
    "df_all = ds.to_dataframe().reset_index()\n",
    "df_all = df_all[features_plus_coords].dropna()\n",
    "y_pred = reg.predict(df_all[features])\n",
    "\n",
    "# Put preidctionsinto dataframe\n",
    "df_all['spco2_pred'] = y_pred\n",
    "\n",
    "# merge the predictions into skeleton on the time, lat, lon coords\n",
    "output = skeleton_xr.merge(df_all[['time', 'lat', 'lon', 'spco2_pred']], \n",
    "                           how = 'left', on = ['time','lat','lon'])\n",
    "\n",
    "# Reshape output to (lat, lon, time)\n",
    "dim_time, dim_lat, dim_lon = ds['spco2'].shape\n",
    "out = output['spco2_pred'].values.reshape(dim_lat, dim_lon, dim_time)\n",
    "\n",
    "# Put into xarray dataset\n",
    "ds_out = xr.Dataset(\n",
    "    {\n",
    "    'spco2':(['lat', 'lon', 'time'], out),\n",
    "    # 'error':(['lat', 'lon', 'time'], error),\n",
    "    },\n",
    "\n",
    "    coords={\n",
    "    'time': (['time'], time),\n",
    "    'lat': (['lat'], lat),\n",
    "    'lon': (['lon'], lon),\n",
    "    })"
   ]
  },
  {
   "cell_type": "markdown",
   "metadata": {},
   "source": [
    "## Test plot"
   ]
  },
  {
   "cell_type": "code",
   "execution_count": 16,
   "metadata": {},
   "outputs": [
    {
     "name": "stderr",
     "output_type": "stream",
     "text": [
      "/home/gloege/miniconda3/envs/tensorflow/lib/python3.6/site-packages/xarray/core/nanops.py:159: RuntimeWarning: Mean of empty slice\n",
      "  return np.nanmean(a, axis=axis, dtype=dtype)\n"
     ]
    },
    {
     "data": {
      "text/plain": [
       "<matplotlib.collections.PolyCollection at 0x7f4996b7e2b0>"
      ]
     },
     "execution_count": 16,
     "metadata": {},
     "output_type": "execute_result"
    },
    {
     "data": {
      "image/png": "[encoded data removed]",
      "text/plain": [
       "<Figure size 432x288 with 1 Axes>"
      ]
     },
     "metadata": {
      "needs_background": "light"
     },
     "output_type": "display_data"
    }
   ],
   "source": [
    "plt.pcolor(ds_out['lon'], ds['lat'], ds_out['spco2'].mean('time'), vmin=280, vmax=440)"
   ]
  },
  {
   "cell_type": "markdown",
   "metadata": {},
   "source": [
    "# Code Snippets\n",
    "- these may be useful later"
   ]
  },
  {
   "cell_type": "code",
   "execution_count": null,
   "metadata": {},
   "outputs": [],
   "source": [
    "# Define functions\n",
    "def transform_doy(obj, dim='time'):\n",
    "    '''\n",
    "    transform_doy(ds, dim='time')\n",
    "    transform DOY into repeating cycles\n",
    "    \n",
    "    reference\n",
    "    ==========\n",
    "    Gregor et al. 2019 \n",
    "    '''\n",
    "    obj['T0'] = np.cos(obj[f'{dim}.dayofyear'] * 2 * np.pi / 365)\n",
    "    obj['T1'] = np.sin(obj[f'{dim}.dayofyear'] * 2 * np.pi / 365)\n",
    "    return obj[['T0','T1']]\n",
    "\n",
    "def compute_n_vector(obj, dim_lon='lon', dim_lat='lat'):\n",
    "    '''\n",
    "    compute_n_vector(ds,dim_lon='lon', dim_lat='lat')\n",
    "    calculate n-vector from lat/lon\n",
    "    \n",
    "    reference\n",
    "    ==========\n",
    "    Gregor et al. 2019 \n",
    "    '''\n",
    "    ### convert lat/lon to radians\n",
    "    obj['lat_rad'], obj['lon_rad'] = np.radians(obj[dim_lat]), np.radians(obj[dim_lon])\n",
    "\n",
    "    ### Calculate n-vector\n",
    "    obj['A'], obj['B'], obj['C'] = np.sin(obj['lat_rad']), \\\n",
    "                            np.sin(obj['lon_rad'])*np.cos(obj['lat_rad']), \\\n",
    "                            -np.cos(obj['lon_rad'])*np.cos(obj['lat_rad'])\n",
    "    return obj[['A','B','C']]"
   ]
  },
  {
   "cell_type": "code",
   "execution_count": null,
   "metadata": {},
   "outputs": [],
   "source": [
    "features = ['sst', 'sss', 'chl', 'mld', 'xco2']\n",
    "### Features (These will be features to the input)\n",
    "X = df.loc[:,features] \n",
    "\n",
    "### Target (This is what the network is trying to learn)\n",
    "y = df.loc[:,'spco2']\n",
    "\n",
    "### Uses train_test_split build into sklearn.model_selection\n",
    "### By default this method shuffles the data (30% = testing 70%=training/validation)\n",
    "### Train  = 49%\n",
    "### Valid  = 21%\n",
    "### Test   = 30%\n",
    "X_tmp, X_test, y_tmp, y_test = train_test_split(X, y, test_size=0.3, random_state= 73)\n",
    "X_train, X_val, y_train, y_val = train_test_split(X_tmp, y_tmp, test_size=0.3, random_state = 28)\n",
    "del X_tmp\n",
    "del y_tmp\n",
    "\n",
    "#features = ['sst', 'sss', 'chl', 'mld', 'xco2']\n",
    "#feature_cols = ['SST_detrend','SSS','XMLD','Chl','T0','T1','A','B','C']\n",
    "\n",
    "### Select features for training\n",
    "X_train_ready = X_train[features]\n",
    "X_train_ready = X_train_ready.values\n",
    "y_train_ready = y_train.values\n",
    "\n",
    "### Select features for validation\n",
    "X_val_ready = X_val[features]\n",
    "X_val_ready = X_val_ready.values\n",
    "y_val_ready = y_val.values\n",
    "\n",
    "### Select features for testing\n",
    "X_test_ready = X_test[features]\n",
    "X_test_ready = X_test_ready.values\n",
    "y_test_ready = y_test.values\n",
    "\n",
    "print(X_train.shape, y_train.shape)\n",
    "print(X_test.shape, y_test.shape)\n",
    "\n",
    "#ds_trim = xr.merge([ds, ## Standard variables\n",
    "#                    detrend(ds['SST'], dim='time').rename('SST_detrend'),\n",
    "#                    transform_doy(ds),           ## time transormation\n",
    "#                    compute_n_vector(ds)])       ## n-vector"
   ]
  }
 ],
 "metadata": {
  "kernelspec": {
   "display_name": "tensorflow",
   "language": "python",
   "name": "tensorflow"
  },
  "language_info": {
   "codemirror_mode": {
    "name": "ipython",
    "version": 3
   },
   "file_extension": ".py",
   "mimetype": "text/x-python",
   "name": "python",
   "nbconvert_exporter": "python",
   "pygments_lexer": "ipython3",
   "version": "3.6.7"
  }
 },
 "nbformat": 4,
 "nbformat_minor": 2
}
