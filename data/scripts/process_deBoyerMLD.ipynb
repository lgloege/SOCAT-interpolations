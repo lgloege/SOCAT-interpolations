{
 "cells": [
  {
   "cell_type": "markdown",
   "metadata": {},
   "source": [
    "# Process :  de Boyer Montegut MLD climatology\n",
    "_process already re-gridded MLD climatology_\n",
    "\n",
    "- **Original**: `/local/data/artemis/observations/MLD_deBoyerMontegut/processed/mld_DT02_1x1_clim.nc`\n",
    "- **Processed**: `/local/data/artemis/observations/MLD_deBoyerMontegut/processed/mld_1x1_clim_deBoyer_198201-201712.nc`\n",
    "- **Variable**: mld\n",
    "- **Temporal**: Monthly climatology (tiled for 36 years)\n",
    "- **Spatial**: 1x1 degree, interpolated from 2x2\n",
    "\n",
    "Laste update : 20 September 2019 L. Gloege"
   ]
  },
  {
   "cell_type": "code",
   "execution_count": 1,
   "metadata": {},
   "outputs": [],
   "source": [
    "import xarray as xr\n",
    "import numpy as np\n",
    "import pandas as pd"
   ]
  },
  {
   "cell_type": "code",
   "execution_count": 2,
   "metadata": {},
   "outputs": [],
   "source": [
    "# Observations directory\n",
    "dir_obs = '/local/data/artemis/observations'"
   ]
  },
  {
   "cell_type": "code",
   "execution_count": 3,
   "metadata": {},
   "outputs": [],
   "source": [
    "# Read data\n",
    "ds = xr.open_dataset(f'{dir_obs}/MLD_deBoyerMontegut/processed/mld_DT02_1x1_clim.nc', decode_cf=False)"
   ]
  },
  {
   "cell_type": "code",
   "execution_count": 4,
   "metadata": {},
   "outputs": [
    {
     "data": {
      "text/plain": [
       "<xarray.DataArray 'mld' (time: 12, ylat: 180, xlon: 360)>\n",
       "[777600 values with dtype=float32]\n",
       "Coordinates:\n",
       "  * time     (time) float64 14.0 45.0 73.0 104.0 ... 257.0 287.0 318.0 348.0\n",
       "  * xlon     (xlon) float64 0.5 1.5 2.5 3.5 4.5 ... 356.5 357.5 358.5 359.5\n",
       "  * ylat     (ylat) float64 -89.5 -88.5 -87.5 -86.5 ... 86.5 87.5 88.5 89.5\n",
       "Attributes:\n",
       "    long_name:      mixed layer depth (estimated by kriging of mld_smth)\n",
       "    units:          meters\n",
       "    _FillValue:     -9999.0\n",
       "    missing_value:  -9999.0\n",
       "    min_value:      10.267677\n",
       "    max_value:      772.3705\n",
       "    mask_value:     1000000000.0"
      ]
     },
     "execution_count": 4,
     "metadata": {},
     "output_type": "execute_result"
    }
   ],
   "source": [
    "ds['mld']"
   ]
  },
  {
   "cell_type": "markdown",
   "metadata": {},
   "source": [
    "# Tile the climatology for N years"
   ]
  },
  {
   "cell_type": "code",
   "execution_count": 5,
   "metadata": {},
   "outputs": [],
   "source": [
    "# Tile the climatology to nyears\n",
    "nyears = 36\n",
    "ds_tiled = np.tile(ds['mld'],[nyears, 1, 1])"
   ]
  },
  {
   "cell_type": "code",
   "execution_count": 6,
   "metadata": {},
   "outputs": [
    {
     "name": "stdout",
     "output_type": "stream",
     "text": [
      "ds_tiled shape = (432, 180, 360)\n"
     ]
    }
   ],
   "source": [
    "print(f'ds_tiled shape = {np.shape(ds_tiled)}')"
   ]
  },
  {
   "cell_type": "code",
   "execution_count": 7,
   "metadata": {},
   "outputs": [],
   "source": [
    "# Create a date vector\n",
    "dates = pd.date_range(start='1982-01-01T00:00:00.000000000', \n",
    "                      end='2017-12-01T00:00:00.000000000',freq='MS')+ np.timedelta64(14, 'D')"
   ]
  },
  {
   "cell_type": "code",
   "execution_count": 8,
   "metadata": {},
   "outputs": [
    {
     "name": "stdout",
     "output_type": "stream",
     "text": [
      "dates shape = (432,)\n"
     ]
    }
   ],
   "source": [
    "print(f'dates shape = {np.shape(dates)}')"
   ]
  },
  {
   "cell_type": "code",
   "execution_count": 11,
   "metadata": {},
   "outputs": [],
   "source": [
    "ds_out = xr.Dataset(\n",
    "    {\n",
    "    'mld':(['time','lat', 'lon'], ds_tiled, {'long_name':'mixed layer depth',\n",
    "                                             'units':'meters'}),\n",
    "    },\n",
    "\n",
    "    coords={\n",
    "    'lat': (['lat'], ds['ylat'], {'units':'degrees_north'}),\n",
    "    'lon': (['lon'], ds['xlon'], {'units':'degrees_east'}),\n",
    "    'time': (['time'], dates)\n",
    "    })"
   ]
  },
  {
   "cell_type": "code",
   "execution_count": 12,
   "metadata": {},
   "outputs": [
    {
     "name": "stdout",
     "output_type": "stream",
     "text": [
      "xarray.Dataset {\n",
      "dimensions:\n",
      "\tlat = 180 ;\n",
      "\tlon = 360 ;\n",
      "\ttime = 432 ;\n",
      "\n",
      "variables:\n",
      "\tfloat32 mld(time, lat, lon) ;\n",
      "\t\tmld:long_name = mixed layer depth ;\n",
      "\t\tmld:units = meters ;\n",
      "\tfloat64 lat(lat) ;\n",
      "\t\tlat:units = degrees_north ;\n",
      "\tfloat64 lon(lon) ;\n",
      "\t\tlon:units = degrees_east ;\n",
      "\tdatetime64[ns] time(time) ;\n",
      "\n",
      "// global attributes:\n",
      "}"
     ]
    }
   ],
   "source": [
    "ds_out.info()"
   ]
  },
  {
   "cell_type": "markdown",
   "metadata": {},
   "source": [
    "## Save to NetCDF file"
   ]
  },
  {
   "cell_type": "code",
   "execution_count": 14,
   "metadata": {},
   "outputs": [
    {
     "name": "stderr",
     "output_type": "stream",
     "text": [
      "/home/gloege/miniconda3/envs/dev/lib/python3.6/site-packages/xarray/coding/times.py:244: FutureWarning: the 'box' keyword is deprecated and will be removed in a future version. Please take steps to stop the use of 'box'\n",
      "  dates = pd.to_datetime(dates, box=False)\n"
     ]
    }
   ],
   "source": [
    "# Save tiled climatology\n",
    "ds_out.to_netcdf(f'{dir_obs}/MLD_deBoyerMontegut/processed/mld_1x1_clim_deBoyer_198201-201712.nc')"
   ]
  }
 ],
 "metadata": {
  "kernelspec": {
   "display_name": "tensorflow",
   "language": "python",
   "name": "tensorflow"
  },
  "language_info": {
   "codemirror_mode": {
    "name": "ipython",
    "version": 3
   },
   "file_extension": ".py",
   "mimetype": "text/x-python",
   "name": "python",
   "nbconvert_exporter": "python",
   "pygments_lexer": "ipython3",
   "version": "3.6.7"
  }
 },
 "nbformat": 4,
 "nbformat_minor": 2
}
