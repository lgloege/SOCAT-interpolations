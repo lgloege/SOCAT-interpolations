{
 "cells": [
  {
   "cell_type": "markdown",
   "metadata": {},
   "source": [
    "# Process : globColour\n",
    "_process globColour chlorophyll product_\n",
    "\n",
    "- **Original**: `/local/data/artemis/observations/GlobColour`\n",
    "- **Processed**: `/local/data/artemis/observations/GlobColour`\n",
    "- **Variable**: chl\n",
    "- **Temporal**: Monthly, 199801 - 201712\n",
    "- **Spatial**: 1x1 degree, interpolated from native grid\n",
    "- **todo**: pre-pend with climatology\n",
    "\n",
    "Laste update : 20 September 2019 L. Gloege"
   ]
  },
  {
   "cell_type": "code",
   "execution_count": 1,
   "metadata": {},
   "outputs": [],
   "source": [
    "import xarray as xr\n",
    "import numpy as np\n",
    "import pandas as pd\n",
    "import matplotlib.pyplot as plt"
   ]
  },
  {
   "cell_type": "code",
   "execution_count": 2,
   "metadata": {},
   "outputs": [],
   "source": [
    "# Observations directory\n",
    "dir_obs = '/local/data/artemis/observations'"
   ]
  },
  {
   "cell_type": "code",
   "execution_count": 3,
   "metadata": {},
   "outputs": [],
   "source": [
    "# Load raw data\n",
    "ds = xr.open_dataset(f'{dir_obs}/GlobColour/originals/L3m_GLOB_CHL1_199801-201712.nc')"
   ]
  },
  {
   "cell_type": "code",
   "execution_count": 4,
   "metadata": {},
   "outputs": [],
   "source": [
    "# flip latitudes so is in increasing order\n",
    "ds = ds.sortby('lat')"
   ]
  },
  {
   "cell_type": "code",
   "execution_count": 5,
   "metadata": {},
   "outputs": [],
   "source": [
    "# roll data so longitude goes from 0-360\n",
    "ds_rolled = ds.roll(lon=180, roll_coords='lon')"
   ]
  },
  {
   "cell_type": "code",
   "execution_count": 6,
   "metadata": {},
   "outputs": [
    {
     "name": "stdout",
     "output_type": "stream",
     "text": [
      "dates shape = (240,)\n"
     ]
    }
   ],
   "source": [
    "# Make dates vector\n",
    "dates = pd.date_range(start='1998-01-01T00:00:00.000000000', \n",
    "                      end='2017-12-01T00:00:00.000000000',freq='MS')+ np.timedelta64(14, 'D')\n",
    "da_dates = xr.DataArray(dates, dims='time')\n",
    "print(f'dates shape = {np.shape(da_dates)}')"
   ]
  },
  {
   "cell_type": "markdown",
   "metadata": {},
   "source": [
    "## Store raw data in NetCDF"
   ]
  },
  {
   "cell_type": "code",
   "execution_count": 7,
   "metadata": {},
   "outputs": [],
   "source": [
    "ds_out = xr.Dataset(\n",
    "    {\n",
    "    'chl':(['time','lat', 'lon'], ds_rolled['CHL1_mean'],\n",
    "           {'long_name':'satellite-retrieved chlorophyll concentration',\n",
    "            'units':'mg/m3'}),\n",
    "    },\n",
    "\n",
    "    coords={\n",
    "    'lat': (['lat'], ds_rolled['lat'], {'units':'degrees_north'}),\n",
    "    'lon': (['lon'], np.arange(0.5, 360, 1), {'units':'degrees_east'}),\n",
    "    'time': (['time'], da_dates)\n",
    "    },\n",
    "    attrs={'contact':'Luke Gloege (gloege@ldeo.columbia.edu)',\n",
    "           'creation_date':'21 September 2019',\n",
    "           'notes':'original data, no manipulation',\n",
    "           'original_data':'http://www.globcolour.info/'})"
   ]
  },
  {
   "cell_type": "code",
   "execution_count": 8,
   "metadata": {},
   "outputs": [
    {
     "name": "stdout",
     "output_type": "stream",
     "text": [
      "xarray.Dataset {\n",
      "dimensions:\n",
      "\tlat = 180 ;\n",
      "\tlon = 360 ;\n",
      "\ttime = 240 ;\n",
      "\n",
      "variables:\n",
      "\tfloat32 chl(time, lat, lon) ;\n",
      "\t\tchl:long_name = satellite-retrieved chlorophyll concentration ;\n",
      "\t\tchl:units = mg/m3 ;\n",
      "\tfloat32 lat(lat) ;\n",
      "\t\tlat:units = degrees_north ;\n",
      "\tfloat64 lon(lon) ;\n",
      "\t\tlon:units = degrees_east ;\n",
      "\tdatetime64[ns] time(time) ;\n",
      "\n",
      "// global attributes:\n",
      "\t:contact = Luke Gloege (gloege@ldeo.columbia.edu) ;\n",
      "\t:creation_date = 21 September 2019 ;\n",
      "\t:notes = original data, no manipulation ;\n",
      "\t:original_data = http://www.globcolour.info/ ;\n",
      "}"
     ]
    }
   ],
   "source": [
    "ds_out.info()"
   ]
  },
  {
   "cell_type": "code",
   "execution_count": 10,
   "metadata": {},
   "outputs": [],
   "source": [
    "ds_out.to_netcdf(f'{dir_obs}/GlobColour/processed/chl_1x1_mon_globColour_199801-201712.nc')"
   ]
  },
  {
   "cell_type": "markdown",
   "metadata": {},
   "source": [
    "## Pre-pend climatology"
   ]
  },
  {
   "cell_type": "code",
   "execution_count": null,
   "metadata": {},
   "outputs": [],
   "source": []
  },
  {
   "cell_type": "markdown",
   "metadata": {},
   "source": [
    "## Test plot"
   ]
  },
  {
   "cell_type": "code",
   "execution_count": 9,
   "metadata": {},
   "outputs": [
    {
     "data": {
      "text/plain": [
       "<matplotlib.collections.PolyCollection at 0x7f2627c29550>"
      ]
     },
     "execution_count": 9,
     "metadata": {},
     "output_type": "execute_result"
    },
    {
     "data": {
      "image/png": "[encoded data removed]",
      "text/plain": [
       "<Figure size 432x288 with 1 Axes>"
      ]
     },
     "metadata": {
      "needs_background": "light"
     },
     "output_type": "display_data"
    }
   ],
   "source": [
    "plt.pcolor(ds_out['lon'], ds_out['lat'], ds_out['chl'][0,:,:])"
   ]
  }
 ],
 "metadata": {
  "kernelspec": {
   "display_name": "tensorflow",
   "language": "python",
   "name": "tensorflow"
  },
  "language_info": {
   "codemirror_mode": {
    "name": "ipython",
    "version": 3
   },
   "file_extension": ".py",
   "mimetype": "text/x-python",
   "name": "python",
   "nbconvert_exporter": "python",
   "pygments_lexer": "ipython3",
   "version": "3.6.7"
  }
 },
 "nbformat": 4,
 "nbformat_minor": 2
}
